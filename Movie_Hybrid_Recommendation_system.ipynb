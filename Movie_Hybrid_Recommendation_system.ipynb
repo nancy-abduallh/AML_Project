{
  "cells": [
    {
      "cell_type": "code",
      "execution_count": 1,
      "metadata": {
        "colab": {
          "base_uri": "https://localhost:8080/"
        },
        "id": "sFdjmw8BsuCu",
        "outputId": "53485086-9990-463d-ce6f-a0b841a9276c"
      },
      "outputs": [
        {
          "output_type": "stream",
          "name": "stdout",
          "text": [
            "Mounted at /content/drive\n"
          ]
        }
      ],
      "source": [
        "from google.colab import drive\n",
        "drive.mount('/content/drive')"
      ]
    },
    {
      "cell_type": "code",
      "execution_count": 1,
      "metadata": {
        "colab": {
          "base_uri": "https://localhost:8080/"
        },
        "id": "FDZTuQt8nZ7b",
        "outputId": "5119f2a9-59b2-4d76-b85e-d65196cc6281"
      },
      "outputs": [
        {
          "output_type": "stream",
          "name": "stdout",
          "text": [
            "Requirement already satisfied: numpy==1.24.4 in /usr/local/lib/python3.11/dist-packages (1.24.4)\n"
          ]
        }
      ],
      "source": [
        "!pip install numpy==1.24.4"
      ]
    },
    {
      "cell_type": "code",
      "execution_count": 2,
      "metadata": {
        "colab": {
          "base_uri": "https://localhost:8080/"
        },
        "id": "qgS3NHJfnaJp",
        "outputId": "85778ee1-fa66-4bc4-fb70-ac936ed4e123"
      },
      "outputs": [
        {
          "output_type": "stream",
          "name": "stdout",
          "text": [
            "Collecting scikit-surprise\n",
            "  Downloading scikit_surprise-1.1.4.tar.gz (154 kB)\n",
            "\u001b[?25l     \u001b[90m━━━━━━━━━━━━━━━━━━━━━━━━━━━━━━━━━━━━━━━━\u001b[0m \u001b[32m0.0/154.4 kB\u001b[0m \u001b[31m?\u001b[0m eta \u001b[36m-:--:--\u001b[0m\r\u001b[2K     \u001b[90m━━━━━━━━━━━━━━━━━━━━━━━━━━━━━━━━━━━━━━\u001b[0m \u001b[32m154.4/154.4 kB\u001b[0m \u001b[31m11.9 MB/s\u001b[0m eta \u001b[36m0:00:00\u001b[0m\n",
            "\u001b[?25h  Installing build dependencies ... \u001b[?25l\u001b[?25hdone\n",
            "  Getting requirements to build wheel ... \u001b[?25l\u001b[?25hdone\n",
            "  Preparing metadata (pyproject.toml) ... \u001b[?25l\u001b[?25hdone\n",
            "Requirement already satisfied: joblib>=1.2.0 in /usr/local/lib/python3.11/dist-packages (from scikit-surprise) (1.5.0)\n",
            "Requirement already satisfied: numpy>=1.19.5 in /usr/local/lib/python3.11/dist-packages (from scikit-surprise) (1.24.4)\n",
            "Requirement already satisfied: scipy>=1.6.0 in /usr/local/lib/python3.11/dist-packages (from scikit-surprise) (1.15.3)\n",
            "Building wheels for collected packages: scikit-surprise\n",
            "  Building wheel for scikit-surprise (pyproject.toml) ... \u001b[?25l\u001b[?25hdone\n",
            "  Created wheel for scikit-surprise: filename=scikit_surprise-1.1.4-cp311-cp311-linux_x86_64.whl size=2463300 sha256=51d78a23ccfdc18a4bc7780078acc87760ac1811002264bc4653defb56ea37b5\n",
            "  Stored in directory: /root/.cache/pip/wheels/2a/8f/6e/7e2899163e2d85d8266daab4aa1cdabec7a6c56f83c015b5af\n",
            "Successfully built scikit-surprise\n",
            "Installing collected packages: scikit-surprise\n",
            "Successfully installed scikit-surprise-1.1.4\n"
          ]
        }
      ],
      "source": [
        "!pip install scikit-surprise"
      ]
    },
    {
      "cell_type": "code",
      "execution_count": 3,
      "metadata": {
        "id": "bLz0C1mmJRrm"
      },
      "outputs": [],
      "source": [
        "import pandas as pd\n",
        "import numpy as np\n",
        "from sklearn.feature_extraction.text import TfidfVectorizer\n",
        "from sklearn.metrics.pairwise import cosine_similarity\n",
        "from sklearn.model_selection import train_test_split\n",
        "from sklearn.neighbors import NearestNeighbors\n",
        "from sklearn.preprocessing import MinMaxScaler\n",
        "from sklearn.metrics import (\n",
        "    mean_squared_error, mean_absolute_error,\n",
        "    precision_score, recall_score, f1_score,\n",
        "    roc_auc_score, roc_curve, confusion_matrix\n",
        ")\n",
        "import matplotlib.pyplot as plt\n",
        "import seaborn as sns\n",
        "from scipy.sparse import csr_matrix\n",
        "from tqdm import tqdm\n",
        "from surprise import Reader, Dataset, SVD\n",
        "from surprise.model_selection import train_test_split as surprise_train_test_split"
      ]
    },
    {
      "cell_type": "code",
      "execution_count": 4,
      "metadata": {
        "id": "EzpIAmk7JR0D",
        "colab": {
          "base_uri": "https://localhost:8080/"
        },
        "outputId": "20a6f1ae-ac5b-48bd-8077-5eeaf6cfbdae"
      },
      "outputs": [
        {
          "output_type": "stream",
          "name": "stdout",
          "text": [
            "   userId  movieId  rating   timestamp\n",
            "0       1      296     5.0  1147880044\n",
            "1       1      306     3.5  1147868817\n",
            "2       1      307     5.0  1147868828\n",
            "3       1      665     5.0  1147878820\n",
            "4       1      899     3.5  1147868510\n",
            "   movieId                               title  \\\n",
            "0        1                    Toy Story (1995)   \n",
            "1        2                      Jumanji (1995)   \n",
            "2        3             Grumpier Old Men (1995)   \n",
            "3        4            Waiting to Exhale (1995)   \n",
            "4        5  Father of the Bride Part II (1995)   \n",
            "\n",
            "                                        genres  \n",
            "0  Adventure|Animation|Children|Comedy|Fantasy  \n",
            "1                   Adventure|Children|Fantasy  \n",
            "2                               Comedy|Romance  \n",
            "3                         Comedy|Drama|Romance  \n",
            "4                                       Comedy  \n"
          ]
        }
      ],
      "source": [
        "ratings = pd.read_csv('/content/drive/My Drive/Datasets/ratings.csv')\n",
        "movies  = pd.read_csv('/content/drive/My Drive/Datasets/movies.csv')\n",
        "\n",
        "print(ratings.head())\n",
        "print(movies.head())"
      ]
    },
    {
      "cell_type": "code",
      "execution_count": 5,
      "metadata": {
        "id": "E4O3Kz3ejz9f"
      },
      "outputs": [],
      "source": [
        "movies['title'] = movies['title'].str.replace(r'\\(\\d{4}\\)', '', regex=True).str.strip()\n",
        "movies['metadata'] = movies['title'] + ' ' + movies['genres'].str.replace('|', ' ')"
      ]
    },
    {
      "cell_type": "code",
      "execution_count": 6,
      "metadata": {
        "id": "aKplBzsJruXA",
        "colab": {
          "base_uri": "https://localhost:8080/"
        },
        "outputId": "1d3a357d-4184-4f9d-98fe-f8a8aa181a2e"
      },
      "outputs": [
        {
          "output_type": "stream",
          "name": "stdout",
          "text": [
            "Ratings Count:\n",
            "userId       25000095\n",
            "movieId      25000095\n",
            "rating       25000095\n",
            "timestamp    25000095\n",
            "dtype: int64\n",
            "\n",
            "Movies Count:\n",
            "movieId     62423\n",
            "title       62423\n",
            "genres      62423\n",
            "metadata    62423\n",
            "dtype: int64\n"
          ]
        }
      ],
      "source": [
        "print(\"Ratings Count:\")\n",
        "print(ratings.count())\n",
        "print(\"\\nMovies Count:\")\n",
        "print(movies.count())"
      ]
    },
    {
      "cell_type": "code",
      "execution_count": 7,
      "metadata": {
        "id": "NTkC-9pOt6A7",
        "colab": {
          "base_uri": "https://localhost:8080/",
          "height": 80
        },
        "outputId": "0fa8911c-f416-4b31-c7b1-292d79ce9e3e"
      },
      "outputs": [
        {
          "output_type": "execute_result",
          "data": {
            "text/plain": [
              "NearestNeighbors(algorithm='brute', metric='cosine', n_neighbors=20)"
            ],
            "text/html": [
              "<style>#sk-container-id-1 {\n",
              "  /* Definition of color scheme common for light and dark mode */\n",
              "  --sklearn-color-text: #000;\n",
              "  --sklearn-color-text-muted: #666;\n",
              "  --sklearn-color-line: gray;\n",
              "  /* Definition of color scheme for unfitted estimators */\n",
              "  --sklearn-color-unfitted-level-0: #fff5e6;\n",
              "  --sklearn-color-unfitted-level-1: #f6e4d2;\n",
              "  --sklearn-color-unfitted-level-2: #ffe0b3;\n",
              "  --sklearn-color-unfitted-level-3: chocolate;\n",
              "  /* Definition of color scheme for fitted estimators */\n",
              "  --sklearn-color-fitted-level-0: #f0f8ff;\n",
              "  --sklearn-color-fitted-level-1: #d4ebff;\n",
              "  --sklearn-color-fitted-level-2: #b3dbfd;\n",
              "  --sklearn-color-fitted-level-3: cornflowerblue;\n",
              "\n",
              "  /* Specific color for light theme */\n",
              "  --sklearn-color-text-on-default-background: var(--sg-text-color, var(--theme-code-foreground, var(--jp-content-font-color1, black)));\n",
              "  --sklearn-color-background: var(--sg-background-color, var(--theme-background, var(--jp-layout-color0, white)));\n",
              "  --sklearn-color-border-box: var(--sg-text-color, var(--theme-code-foreground, var(--jp-content-font-color1, black)));\n",
              "  --sklearn-color-icon: #696969;\n",
              "\n",
              "  @media (prefers-color-scheme: dark) {\n",
              "    /* Redefinition of color scheme for dark theme */\n",
              "    --sklearn-color-text-on-default-background: var(--sg-text-color, var(--theme-code-foreground, var(--jp-content-font-color1, white)));\n",
              "    --sklearn-color-background: var(--sg-background-color, var(--theme-background, var(--jp-layout-color0, #111)));\n",
              "    --sklearn-color-border-box: var(--sg-text-color, var(--theme-code-foreground, var(--jp-content-font-color1, white)));\n",
              "    --sklearn-color-icon: #878787;\n",
              "  }\n",
              "}\n",
              "\n",
              "#sk-container-id-1 {\n",
              "  color: var(--sklearn-color-text);\n",
              "}\n",
              "\n",
              "#sk-container-id-1 pre {\n",
              "  padding: 0;\n",
              "}\n",
              "\n",
              "#sk-container-id-1 input.sk-hidden--visually {\n",
              "  border: 0;\n",
              "  clip: rect(1px 1px 1px 1px);\n",
              "  clip: rect(1px, 1px, 1px, 1px);\n",
              "  height: 1px;\n",
              "  margin: -1px;\n",
              "  overflow: hidden;\n",
              "  padding: 0;\n",
              "  position: absolute;\n",
              "  width: 1px;\n",
              "}\n",
              "\n",
              "#sk-container-id-1 div.sk-dashed-wrapped {\n",
              "  border: 1px dashed var(--sklearn-color-line);\n",
              "  margin: 0 0.4em 0.5em 0.4em;\n",
              "  box-sizing: border-box;\n",
              "  padding-bottom: 0.4em;\n",
              "  background-color: var(--sklearn-color-background);\n",
              "}\n",
              "\n",
              "#sk-container-id-1 div.sk-container {\n",
              "  /* jupyter's `normalize.less` sets `[hidden] { display: none; }`\n",
              "     but bootstrap.min.css set `[hidden] { display: none !important; }`\n",
              "     so we also need the `!important` here to be able to override the\n",
              "     default hidden behavior on the sphinx rendered scikit-learn.org.\n",
              "     See: https://github.com/scikit-learn/scikit-learn/issues/21755 */\n",
              "  display: inline-block !important;\n",
              "  position: relative;\n",
              "}\n",
              "\n",
              "#sk-container-id-1 div.sk-text-repr-fallback {\n",
              "  display: none;\n",
              "}\n",
              "\n",
              "div.sk-parallel-item,\n",
              "div.sk-serial,\n",
              "div.sk-item {\n",
              "  /* draw centered vertical line to link estimators */\n",
              "  background-image: linear-gradient(var(--sklearn-color-text-on-default-background), var(--sklearn-color-text-on-default-background));\n",
              "  background-size: 2px 100%;\n",
              "  background-repeat: no-repeat;\n",
              "  background-position: center center;\n",
              "}\n",
              "\n",
              "/* Parallel-specific style estimator block */\n",
              "\n",
              "#sk-container-id-1 div.sk-parallel-item::after {\n",
              "  content: \"\";\n",
              "  width: 100%;\n",
              "  border-bottom: 2px solid var(--sklearn-color-text-on-default-background);\n",
              "  flex-grow: 1;\n",
              "}\n",
              "\n",
              "#sk-container-id-1 div.sk-parallel {\n",
              "  display: flex;\n",
              "  align-items: stretch;\n",
              "  justify-content: center;\n",
              "  background-color: var(--sklearn-color-background);\n",
              "  position: relative;\n",
              "}\n",
              "\n",
              "#sk-container-id-1 div.sk-parallel-item {\n",
              "  display: flex;\n",
              "  flex-direction: column;\n",
              "}\n",
              "\n",
              "#sk-container-id-1 div.sk-parallel-item:first-child::after {\n",
              "  align-self: flex-end;\n",
              "  width: 50%;\n",
              "}\n",
              "\n",
              "#sk-container-id-1 div.sk-parallel-item:last-child::after {\n",
              "  align-self: flex-start;\n",
              "  width: 50%;\n",
              "}\n",
              "\n",
              "#sk-container-id-1 div.sk-parallel-item:only-child::after {\n",
              "  width: 0;\n",
              "}\n",
              "\n",
              "/* Serial-specific style estimator block */\n",
              "\n",
              "#sk-container-id-1 div.sk-serial {\n",
              "  display: flex;\n",
              "  flex-direction: column;\n",
              "  align-items: center;\n",
              "  background-color: var(--sklearn-color-background);\n",
              "  padding-right: 1em;\n",
              "  padding-left: 1em;\n",
              "}\n",
              "\n",
              "\n",
              "/* Toggleable style: style used for estimator/Pipeline/ColumnTransformer box that is\n",
              "clickable and can be expanded/collapsed.\n",
              "- Pipeline and ColumnTransformer use this feature and define the default style\n",
              "- Estimators will overwrite some part of the style using the `sk-estimator` class\n",
              "*/\n",
              "\n",
              "/* Pipeline and ColumnTransformer style (default) */\n",
              "\n",
              "#sk-container-id-1 div.sk-toggleable {\n",
              "  /* Default theme specific background. It is overwritten whether we have a\n",
              "  specific estimator or a Pipeline/ColumnTransformer */\n",
              "  background-color: var(--sklearn-color-background);\n",
              "}\n",
              "\n",
              "/* Toggleable label */\n",
              "#sk-container-id-1 label.sk-toggleable__label {\n",
              "  cursor: pointer;\n",
              "  display: flex;\n",
              "  width: 100%;\n",
              "  margin-bottom: 0;\n",
              "  padding: 0.5em;\n",
              "  box-sizing: border-box;\n",
              "  text-align: center;\n",
              "  align-items: start;\n",
              "  justify-content: space-between;\n",
              "  gap: 0.5em;\n",
              "}\n",
              "\n",
              "#sk-container-id-1 label.sk-toggleable__label .caption {\n",
              "  font-size: 0.6rem;\n",
              "  font-weight: lighter;\n",
              "  color: var(--sklearn-color-text-muted);\n",
              "}\n",
              "\n",
              "#sk-container-id-1 label.sk-toggleable__label-arrow:before {\n",
              "  /* Arrow on the left of the label */\n",
              "  content: \"▸\";\n",
              "  float: left;\n",
              "  margin-right: 0.25em;\n",
              "  color: var(--sklearn-color-icon);\n",
              "}\n",
              "\n",
              "#sk-container-id-1 label.sk-toggleable__label-arrow:hover:before {\n",
              "  color: var(--sklearn-color-text);\n",
              "}\n",
              "\n",
              "/* Toggleable content - dropdown */\n",
              "\n",
              "#sk-container-id-1 div.sk-toggleable__content {\n",
              "  max-height: 0;\n",
              "  max-width: 0;\n",
              "  overflow: hidden;\n",
              "  text-align: left;\n",
              "  /* unfitted */\n",
              "  background-color: var(--sklearn-color-unfitted-level-0);\n",
              "}\n",
              "\n",
              "#sk-container-id-1 div.sk-toggleable__content.fitted {\n",
              "  /* fitted */\n",
              "  background-color: var(--sklearn-color-fitted-level-0);\n",
              "}\n",
              "\n",
              "#sk-container-id-1 div.sk-toggleable__content pre {\n",
              "  margin: 0.2em;\n",
              "  border-radius: 0.25em;\n",
              "  color: var(--sklearn-color-text);\n",
              "  /* unfitted */\n",
              "  background-color: var(--sklearn-color-unfitted-level-0);\n",
              "}\n",
              "\n",
              "#sk-container-id-1 div.sk-toggleable__content.fitted pre {\n",
              "  /* unfitted */\n",
              "  background-color: var(--sklearn-color-fitted-level-0);\n",
              "}\n",
              "\n",
              "#sk-container-id-1 input.sk-toggleable__control:checked~div.sk-toggleable__content {\n",
              "  /* Expand drop-down */\n",
              "  max-height: 200px;\n",
              "  max-width: 100%;\n",
              "  overflow: auto;\n",
              "}\n",
              "\n",
              "#sk-container-id-1 input.sk-toggleable__control:checked~label.sk-toggleable__label-arrow:before {\n",
              "  content: \"▾\";\n",
              "}\n",
              "\n",
              "/* Pipeline/ColumnTransformer-specific style */\n",
              "\n",
              "#sk-container-id-1 div.sk-label input.sk-toggleable__control:checked~label.sk-toggleable__label {\n",
              "  color: var(--sklearn-color-text);\n",
              "  background-color: var(--sklearn-color-unfitted-level-2);\n",
              "}\n",
              "\n",
              "#sk-container-id-1 div.sk-label.fitted input.sk-toggleable__control:checked~label.sk-toggleable__label {\n",
              "  background-color: var(--sklearn-color-fitted-level-2);\n",
              "}\n",
              "\n",
              "/* Estimator-specific style */\n",
              "\n",
              "/* Colorize estimator box */\n",
              "#sk-container-id-1 div.sk-estimator input.sk-toggleable__control:checked~label.sk-toggleable__label {\n",
              "  /* unfitted */\n",
              "  background-color: var(--sklearn-color-unfitted-level-2);\n",
              "}\n",
              "\n",
              "#sk-container-id-1 div.sk-estimator.fitted input.sk-toggleable__control:checked~label.sk-toggleable__label {\n",
              "  /* fitted */\n",
              "  background-color: var(--sklearn-color-fitted-level-2);\n",
              "}\n",
              "\n",
              "#sk-container-id-1 div.sk-label label.sk-toggleable__label,\n",
              "#sk-container-id-1 div.sk-label label {\n",
              "  /* The background is the default theme color */\n",
              "  color: var(--sklearn-color-text-on-default-background);\n",
              "}\n",
              "\n",
              "/* On hover, darken the color of the background */\n",
              "#sk-container-id-1 div.sk-label:hover label.sk-toggleable__label {\n",
              "  color: var(--sklearn-color-text);\n",
              "  background-color: var(--sklearn-color-unfitted-level-2);\n",
              "}\n",
              "\n",
              "/* Label box, darken color on hover, fitted */\n",
              "#sk-container-id-1 div.sk-label.fitted:hover label.sk-toggleable__label.fitted {\n",
              "  color: var(--sklearn-color-text);\n",
              "  background-color: var(--sklearn-color-fitted-level-2);\n",
              "}\n",
              "\n",
              "/* Estimator label */\n",
              "\n",
              "#sk-container-id-1 div.sk-label label {\n",
              "  font-family: monospace;\n",
              "  font-weight: bold;\n",
              "  display: inline-block;\n",
              "  line-height: 1.2em;\n",
              "}\n",
              "\n",
              "#sk-container-id-1 div.sk-label-container {\n",
              "  text-align: center;\n",
              "}\n",
              "\n",
              "/* Estimator-specific */\n",
              "#sk-container-id-1 div.sk-estimator {\n",
              "  font-family: monospace;\n",
              "  border: 1px dotted var(--sklearn-color-border-box);\n",
              "  border-radius: 0.25em;\n",
              "  box-sizing: border-box;\n",
              "  margin-bottom: 0.5em;\n",
              "  /* unfitted */\n",
              "  background-color: var(--sklearn-color-unfitted-level-0);\n",
              "}\n",
              "\n",
              "#sk-container-id-1 div.sk-estimator.fitted {\n",
              "  /* fitted */\n",
              "  background-color: var(--sklearn-color-fitted-level-0);\n",
              "}\n",
              "\n",
              "/* on hover */\n",
              "#sk-container-id-1 div.sk-estimator:hover {\n",
              "  /* unfitted */\n",
              "  background-color: var(--sklearn-color-unfitted-level-2);\n",
              "}\n",
              "\n",
              "#sk-container-id-1 div.sk-estimator.fitted:hover {\n",
              "  /* fitted */\n",
              "  background-color: var(--sklearn-color-fitted-level-2);\n",
              "}\n",
              "\n",
              "/* Specification for estimator info (e.g. \"i\" and \"?\") */\n",
              "\n",
              "/* Common style for \"i\" and \"?\" */\n",
              "\n",
              ".sk-estimator-doc-link,\n",
              "a:link.sk-estimator-doc-link,\n",
              "a:visited.sk-estimator-doc-link {\n",
              "  float: right;\n",
              "  font-size: smaller;\n",
              "  line-height: 1em;\n",
              "  font-family: monospace;\n",
              "  background-color: var(--sklearn-color-background);\n",
              "  border-radius: 1em;\n",
              "  height: 1em;\n",
              "  width: 1em;\n",
              "  text-decoration: none !important;\n",
              "  margin-left: 0.5em;\n",
              "  text-align: center;\n",
              "  /* unfitted */\n",
              "  border: var(--sklearn-color-unfitted-level-1) 1pt solid;\n",
              "  color: var(--sklearn-color-unfitted-level-1);\n",
              "}\n",
              "\n",
              ".sk-estimator-doc-link.fitted,\n",
              "a:link.sk-estimator-doc-link.fitted,\n",
              "a:visited.sk-estimator-doc-link.fitted {\n",
              "  /* fitted */\n",
              "  border: var(--sklearn-color-fitted-level-1) 1pt solid;\n",
              "  color: var(--sklearn-color-fitted-level-1);\n",
              "}\n",
              "\n",
              "/* On hover */\n",
              "div.sk-estimator:hover .sk-estimator-doc-link:hover,\n",
              ".sk-estimator-doc-link:hover,\n",
              "div.sk-label-container:hover .sk-estimator-doc-link:hover,\n",
              ".sk-estimator-doc-link:hover {\n",
              "  /* unfitted */\n",
              "  background-color: var(--sklearn-color-unfitted-level-3);\n",
              "  color: var(--sklearn-color-background);\n",
              "  text-decoration: none;\n",
              "}\n",
              "\n",
              "div.sk-estimator.fitted:hover .sk-estimator-doc-link.fitted:hover,\n",
              ".sk-estimator-doc-link.fitted:hover,\n",
              "div.sk-label-container:hover .sk-estimator-doc-link.fitted:hover,\n",
              ".sk-estimator-doc-link.fitted:hover {\n",
              "  /* fitted */\n",
              "  background-color: var(--sklearn-color-fitted-level-3);\n",
              "  color: var(--sklearn-color-background);\n",
              "  text-decoration: none;\n",
              "}\n",
              "\n",
              "/* Span, style for the box shown on hovering the info icon */\n",
              ".sk-estimator-doc-link span {\n",
              "  display: none;\n",
              "  z-index: 9999;\n",
              "  position: relative;\n",
              "  font-weight: normal;\n",
              "  right: .2ex;\n",
              "  padding: .5ex;\n",
              "  margin: .5ex;\n",
              "  width: min-content;\n",
              "  min-width: 20ex;\n",
              "  max-width: 50ex;\n",
              "  color: var(--sklearn-color-text);\n",
              "  box-shadow: 2pt 2pt 4pt #999;\n",
              "  /* unfitted */\n",
              "  background: var(--sklearn-color-unfitted-level-0);\n",
              "  border: .5pt solid var(--sklearn-color-unfitted-level-3);\n",
              "}\n",
              "\n",
              ".sk-estimator-doc-link.fitted span {\n",
              "  /* fitted */\n",
              "  background: var(--sklearn-color-fitted-level-0);\n",
              "  border: var(--sklearn-color-fitted-level-3);\n",
              "}\n",
              "\n",
              ".sk-estimator-doc-link:hover span {\n",
              "  display: block;\n",
              "}\n",
              "\n",
              "/* \"?\"-specific style due to the `<a>` HTML tag */\n",
              "\n",
              "#sk-container-id-1 a.estimator_doc_link {\n",
              "  float: right;\n",
              "  font-size: 1rem;\n",
              "  line-height: 1em;\n",
              "  font-family: monospace;\n",
              "  background-color: var(--sklearn-color-background);\n",
              "  border-radius: 1rem;\n",
              "  height: 1rem;\n",
              "  width: 1rem;\n",
              "  text-decoration: none;\n",
              "  /* unfitted */\n",
              "  color: var(--sklearn-color-unfitted-level-1);\n",
              "  border: var(--sklearn-color-unfitted-level-1) 1pt solid;\n",
              "}\n",
              "\n",
              "#sk-container-id-1 a.estimator_doc_link.fitted {\n",
              "  /* fitted */\n",
              "  border: var(--sklearn-color-fitted-level-1) 1pt solid;\n",
              "  color: var(--sklearn-color-fitted-level-1);\n",
              "}\n",
              "\n",
              "/* On hover */\n",
              "#sk-container-id-1 a.estimator_doc_link:hover {\n",
              "  /* unfitted */\n",
              "  background-color: var(--sklearn-color-unfitted-level-3);\n",
              "  color: var(--sklearn-color-background);\n",
              "  text-decoration: none;\n",
              "}\n",
              "\n",
              "#sk-container-id-1 a.estimator_doc_link.fitted:hover {\n",
              "  /* fitted */\n",
              "  background-color: var(--sklearn-color-fitted-level-3);\n",
              "}\n",
              "</style><div id=\"sk-container-id-1\" class=\"sk-top-container\"><div class=\"sk-text-repr-fallback\"><pre>NearestNeighbors(algorithm=&#x27;brute&#x27;, metric=&#x27;cosine&#x27;, n_neighbors=20)</pre><b>In a Jupyter environment, please rerun this cell to show the HTML representation or trust the notebook. <br />On GitHub, the HTML representation is unable to render, please try loading this page with nbviewer.org.</b></div><div class=\"sk-container\" hidden><div class=\"sk-item\"><div class=\"sk-estimator fitted sk-toggleable\"><input class=\"sk-toggleable__control sk-hidden--visually\" id=\"sk-estimator-id-1\" type=\"checkbox\" checked><label for=\"sk-estimator-id-1\" class=\"sk-toggleable__label fitted sk-toggleable__label-arrow\"><div><div>NearestNeighbors</div></div><div><a class=\"sk-estimator-doc-link fitted\" rel=\"noreferrer\" target=\"_blank\" href=\"https://scikit-learn.org/1.6/modules/generated/sklearn.neighbors.NearestNeighbors.html\">?<span>Documentation for NearestNeighbors</span></a><span class=\"sk-estimator-doc-link fitted\">i<span>Fitted</span></span></div></label><div class=\"sk-toggleable__content fitted\"><pre>NearestNeighbors(algorithm=&#x27;brute&#x27;, metric=&#x27;cosine&#x27;, n_neighbors=20)</pre></div> </div></div></div></div>"
            ]
          },
          "metadata": {},
          "execution_count": 7
        }
      ],
      "source": [
        "active_users = ratings['userId'].value_counts()[ratings['userId'].value_counts() >= 100].index\n",
        "popular_movies = ratings['movieId'].value_counts()[ratings['movieId'].value_counts() >= 200].index\n",
        "filtered_ratings = ratings[\n",
        "    ratings['userId'].isin(active_users) &\n",
        "    ratings['movieId'].isin(popular_movies)\n",
        "]\n",
        "\n",
        "# Content-based setup with improved parameters\n",
        "tfidf = TfidfVectorizer(stop_words='english', max_features=5000)\n",
        "tfidf_matrix = tfidf.fit_transform(movies['metadata'].fillna(''))\n",
        "knn_model = NearestNeighbors(metric='cosine', algorithm='brute', n_neighbors=20)\n",
        "knn_model.fit(tfidf_matrix)"
      ]
    },
    {
      "cell_type": "code",
      "execution_count": 8,
      "metadata": {
        "id": "XgC_Z6j51B8b",
        "colab": {
          "base_uri": "https://localhost:8080/"
        },
        "outputId": "e6d16115-2e93-4e94-b65b-7d1866cbc74d"
      },
      "outputs": [
        {
          "output_type": "stream",
          "name": "stderr",
          "text": [
            "Precomputing content scores: 100%|██████████| 62423/62423 [09:25<00:00, 110.45it/s]\n"
          ]
        },
        {
          "output_type": "execute_result",
          "data": {
            "text/plain": [
              "<surprise.prediction_algorithms.matrix_factorization.SVD at 0x7c3e89dfd210>"
            ]
          },
          "metadata": {},
          "execution_count": 8
        }
      ],
      "source": [
        "movie_scores = {}\n",
        "for idx in tqdm(range(len(movies)), desc=\"Precomputing content scores\"):\n",
        "    try:\n",
        "        distances, indices = knn_model.kneighbors(tfidf_matrix[idx], n_neighbors=6)\n",
        "        similarities = 1 - distances[0][1:]\n",
        "        movie_scores[movies.iloc[idx]['movieId']] = np.mean(similarities)\n",
        "    except:\n",
        "        movie_scores[movies.iloc[idx]['movieId']] = 0.0\n",
        "\n",
        "# Collaborative filtering setup with improved parameters\n",
        "reader = Reader(rating_scale=(0.5, 5.0))\n",
        "data = Dataset.load_from_df(filtered_ratings[['userId', 'movieId', 'rating']], reader)\n",
        "trainset, testset = surprise_train_test_split(data, test_size=0.2, random_state=42)\n",
        "svd_model = SVD(\n",
        "    n_epochs=50,\n",
        "    lr_all=0.008,\n",
        "    reg_all=0.1,\n",
        "    n_factors=150,\n",
        "    random_state=42\n",
        ")\n",
        "svd_model.fit(trainset)"
      ]
    },
    {
      "cell_type": "code",
      "execution_count": 9,
      "metadata": {
        "id": "aYs2oNBN1CDl"
      },
      "outputs": [],
      "source": [
        "def hybrid_predict_batch(user_ids, movie_ids, svd_model, movie_scores_dict):\n",
        "    testset = [[uid, mid, 0] for uid, mid in zip(user_ids, movie_ids)]\n",
        "    svd_preds = svd_model.test(testset)\n",
        "    svd_ests = np.array([pred.est for pred in svd_preds])\n",
        "\n",
        "    content_scores = np.array([movie_scores_dict.get(mid, 0.0) for mid in movie_ids])\n",
        "\n",
        "    svd_scaler = MinMaxScaler()\n",
        "    content_scaler = MinMaxScaler()\n",
        "\n",
        "    svd_norm = svd_scaler.fit_transform(svd_ests.reshape(-1, 1)).flatten()\n",
        "    content_norm = content_scaler.fit_transform(content_scores.reshape(-1, 1)).flatten()\n",
        "\n",
        "    hybrid_scores = 0.85 * svd_norm + 0.15 * content_norm\n",
        "\n",
        "    return hybrid_scores * 4.5 + 0.5"
      ]
    },
    {
      "cell_type": "code",
      "execution_count": 10,
      "metadata": {
        "id": "GBWUBFElVAOD"
      },
      "outputs": [],
      "source": [
        "ratings_train, ratings_test = train_test_split(\n",
        "    filtered_ratings,\n",
        "    test_size=0.2,\n",
        "    random_state=42,\n",
        "    stratify=filtered_ratings['userId']\n",
        ")\n",
        "ratings_test = ratings_test.reset_index(drop=True)\n",
        "\n",
        "y_true = ratings_test['rating'].values\n",
        "y_pred = hybrid_predict_batch(\n",
        "    ratings_test['userId'].values,\n",
        "    ratings_test['movieId'].values,\n",
        "    svd_model,\n",
        "    movie_scores\n",
        ")"
      ]
    },
    {
      "cell_type": "code",
      "execution_count": 11,
      "metadata": {
        "id": "CTNuxfHFVEKI",
        "colab": {
          "base_uri": "https://localhost:8080/"
        },
        "outputId": "0ff645dc-1f8b-428e-999b-4856b9515450"
      },
      "outputs": [
        {
          "output_type": "stream",
          "name": "stdout",
          "text": [
            "Hybrid Model Error Metrics → MSE: 0.6810, RMSE: 0.8253, MAE: 0.6384\n"
          ]
        }
      ],
      "source": [
        "mse = mean_squared_error(y_true, y_pred)\n",
        "rmse_val = np.sqrt(mse)\n",
        "mae = mean_absolute_error(y_true, y_pred)\n",
        "print(f\"Hybrid Model Error Metrics → MSE: {mse:.4f}, RMSE: {rmse_val:.4f}, MAE: {mae:.4f}\")"
      ]
    },
    {
      "cell_type": "code",
      "execution_count": 12,
      "metadata": {
        "id": "WCX7Y2sT1CKl",
        "colab": {
          "base_uri": "https://localhost:8080/"
        },
        "outputId": "d2ebda42-fd42-4453-c8c3-81f527a84121"
      },
      "outputs": [
        {
          "output_type": "stream",
          "name": "stdout",
          "text": [
            "\n",
            "Hybrid Model Classification Metrics:\n",
            " Precision: 0.8684\n",
            " Recall:    0.2693\n",
            " F1-Score:  0.4112\n",
            " AUC-ROC:   0.8050\n"
          ]
        }
      ],
      "source": [
        "threshold = np.percentile(y_true, 70)\n",
        "y_true_b = (y_true >= threshold).astype(int)\n",
        "y_pred_b = (y_pred >= threshold).astype(int)\n",
        "y_score = y_pred\n",
        "\n",
        "precision = precision_score(y_true_b, y_pred_b, zero_division=0)\n",
        "recall = recall_score(y_true_b, y_pred_b, zero_division=0)\n",
        "f1 = f1_score(y_true_b, y_pred_b, zero_division=0)\n",
        "auc = roc_auc_score(y_true_b, y_score)\n",
        "\n",
        "print(\"\\nHybrid Model Classification Metrics:\")\n",
        "print(f\" Precision: {precision:.4f}\")\n",
        "print(f\" Recall:    {recall:.4f}\")\n",
        "print(f\" F1-Score:  {f1:.4f}\")\n",
        "print(f\" AUC-ROC:   {auc:.4f}\")"
      ]
    },
    {
      "cell_type": "code",
      "execution_count": 20,
      "metadata": {
        "id": "9nv1cnxG1J26",
        "colab": {
          "base_uri": "https://localhost:8080/",
          "height": 466
        },
        "outputId": "01f157b4-a23a-4be0-a060-1a7f9f6c2668"
      },
      "outputs": [
        {
          "output_type": "display_data",
          "data": {
            "text/plain": [
              "<Figure size 1400x500 with 3 Axes>"
            ],
            "image/png": "[encoded data removed]"
          },
          "metadata": {}
        }
      ],
      "source": [
        "# Visualization\n",
        "fig, ax = plt.subplots(1, 2, figsize=(14, 5))\n",
        "\n",
        "# Error metrics\n",
        "ax[0].bar(['MSE', 'RMSE', 'MAE'], [mse, rmse_val, mae], color=['blue', 'green', 'red'])\n",
        "ax[0].set_title('Error Metrics Comparison')\n",
        "ax[0].set_ylabel('Value')\n",
        "\n",
        "cm = confusion_matrix(y_true_b, y_pred_b)\n",
        "sns.heatmap(cm, annot=True, fmt='d', cmap='Blues', ax=ax[1])\n",
        "ax[1].set_title('Confusion Matrix')\n",
        "ax[1].set_xlabel('Predicted')\n",
        "ax[1].set_ylabel('Actual')\n",
        "ax[1].set_xticklabels(['< Threshold', '≥ Threshold'])\n",
        "ax[1].set_yticklabels(['< Threshold', '≥ Threshold'])\n",
        "\n",
        "plt.tight_layout()\n",
        "plt.show()"
      ]
    },
    {
      "cell_type": "code",
      "source": [
        "fpr, tpr, _ = roc_curve(y_true_b, y_score)\n",
        "plt.figure(figsize=(8, 6))\n",
        "plt.plot(fpr, tpr, label=f'AUC = {auc:.3f}')\n",
        "plt.plot([0, 1], [0, 1], 'k--')\n",
        "plt.title('ROC Curve')\n",
        "plt.xlabel('False Positive Rate')\n",
        "plt.ylabel('True Positive Rate')\n",
        "plt.legend()\n",
        "plt.show()"
      ],
      "metadata": {
        "id": "aZ5PuFYLe_mH",
        "colab": {
          "base_uri": "https://localhost:8080/",
          "height": 564
        },
        "outputId": "98b755de-9228-45db-890a-5f3df036c620"
      },
      "execution_count": 15,
      "outputs": [
        {
          "output_type": "display_data",
          "data": {
            "text/plain": [
              "<Figure size 800x600 with 1 Axes>"
            ],
            "image/png": "[encoded data removed]"
          },
          "metadata": {}
        }
      ]
    },
    {
      "cell_type": "code",
      "execution_count": 16,
      "metadata": {
        "id": "oc_JMWcDJR7r"
      },
      "outputs": [],
      "source": [
        "def get_collaborative_recommendations(user_id, model, movies_df, n=10):\n",
        "    all_movie_ids = movies_df['movieId'].unique()\n",
        "    rated_movies = ratings[ratings['userId'] == user_id]['movieId'].unique()\n",
        "    unrated_movies = list(set(all_movie_ids) - set(rated_movies))\n",
        "\n",
        "    testset = [[user_id, movie_id, 0] for movie_id in unrated_movies]\n",
        "    predictions = model.test(testset)\n",
        "\n",
        "    top_predictions = sorted(predictions, key=lambda x: x.est, reverse=True)[:n*2]\n",
        "    return pd.DataFrame({\n",
        "        'movieId': [pred.iid for pred in top_predictions],\n",
        "        'predicted_rating': [pred.est for pred in top_predictions]\n",
        "    })"
      ]
    },
    {
      "cell_type": "code",
      "execution_count": 17,
      "metadata": {
        "id": "d0NcFTnRkHbi"
      },
      "outputs": [],
      "source": [
        "def get_content_recommendations(movie_title, tfidf_matrix, movies_df, n=10):\n",
        "    movie_idx = movies_df.index[movies_df['title'] == movie_title].tolist()\n",
        "    if not movie_idx:\n",
        "        return pd.DataFrame()\n",
        "    movie_idx = movie_idx[0]\n",
        "\n",
        "    cosine_sim = cosine_similarity(tfidf_matrix[movie_idx], tfidf_matrix).flatten()\n",
        "    top_indices = cosine_sim.argsort()[-n-1:-1][::-1]\n",
        "\n",
        "    return pd.DataFrame({\n",
        "        'movieId': movies_df.iloc[top_indices]['movieId'].values,\n",
        "        'similarity_score': cosine_sim[top_indices]\n",
        "    })"
      ]
    },
    {
      "cell_type": "code",
      "execution_count": 18,
      "metadata": {
        "id": "k_InJrlckPGY"
      },
      "outputs": [],
      "source": [
        "def hybrid_recommendations(user_id, movie_title, svd_model, tfidf_matrix, movies_df, n=10):\n",
        "\n",
        "    collab_recs = get_collaborative_recommendations(user_id, svd_model, movies_df, n*2)\n",
        "    content_recs = get_content_recommendations(movie_title, tfidf_matrix, movies_df, n*2)\n",
        "\n",
        "    if collab_recs.empty and content_recs.empty:\n",
        "        return pd.DataFrame()\n",
        "\n",
        "    collab_min = collab_recs['predicted_rating'].min() if not collab_recs.empty else 0\n",
        "    collab_max = collab_recs['predicted_rating'].max() if not collab_recs.empty else 1\n",
        "    content_min = content_recs['similarity_score'].min() if not content_recs.empty else 0\n",
        "    content_max = content_recs['similarity_score'].max() if not content_recs.empty else 1\n",
        "\n",
        "\n",
        "    all_movies = set(collab_recs['movieId']).union(set(content_recs['movieId']))\n",
        "    hybrid_df = pd.DataFrame({'movieId': list(all_movies)})\n",
        "\n",
        "    hybrid_df = pd.merge(hybrid_df, collab_recs, on='movieId', how='left')\n",
        "    hybrid_df = pd.merge(hybrid_df, content_recs, on='movieId', how='left')\n",
        "\n",
        "\n",
        "    hybrid_df['predicted_rating_norm'] = (hybrid_df['predicted_rating'] - collab_min) / (collab_max - collab_min + 1e-10)\n",
        "    hybrid_df['similarity_score_norm'] = (hybrid_df['similarity_score'] - content_min) / (content_max - content_min + 1e-10)\n",
        "\n",
        "\n",
        "    hybrid_df.fillna(0, inplace=True)\n",
        "    hybrid_df['hybrid_score'] = 0.5 * hybrid_df['predicted_rating_norm'] + 0.5 * hybrid_df['similarity_score_norm']\n",
        "\n",
        "    top_hybrid = hybrid_df.sort_values('hybrid_score', ascending=False).head(n)\n",
        "    top_hybrid = pd.merge(top_hybrid, movies_df[['movieId', 'title', 'genres']], on='movieId', how='left')\n",
        "\n",
        "    return top_hybrid[['movieId', 'title', 'genres', 'hybrid_score', 'predicted_rating', 'similarity_score']]"
      ]
    },
    {
      "cell_type": "code",
      "execution_count": 19,
      "metadata": {
        "id": "st7w0SxsfqiE",
        "colab": {
          "base_uri": "https://localhost:8080/"
        },
        "outputId": "ea2eed45-d65c-418f-a17f-f199767c0983"
      },
      "outputs": [
        {
          "output_type": "stream",
          "name": "stdout",
          "text": [
            "   movieId                      title                                 genres  \\\n",
            "0   171011            Planet Earth II                            Documentary   \n",
            "1    77561                 Iron Man 2  Action|Adventure|Sci-Fi|Thriller|IMAX   \n",
            "2   159817               Planet Earth                            Documentary   \n",
            "3   102125                 Iron Man 3            Action|Sci-Fi|Thriller|IMAX   \n",
            "4      318  Shawshank Redemption, The                            Crime|Drama   \n",
            "5   147070                   Iron Man                                  Drama   \n",
            "6   167296                   Iron Man                                  Drama   \n",
            "7   179135             Blue Planet II                            Documentary   \n",
            "8   171495                     Cosmos                     (no genres listed)   \n",
            "9   194228               The Iron Man                  Action|Comedy|Fantasy   \n",
            "\n",
            "   hybrid_score  predicted_rating  similarity_score  \n",
            "0      0.500000          4.373884          0.000000  \n",
            "1      0.500000          0.000000          0.848694  \n",
            "2      0.419672          4.317905          0.000000  \n",
            "3      0.377354          0.000000          0.794200  \n",
            "4      0.362069          4.277762          0.000000  \n",
            "5      0.326655          0.000000          0.771673  \n",
            "6      0.326655          0.000000          0.771673  \n",
            "7      0.315228          4.245120          0.000000  \n",
            "8      0.314299          4.244473          0.000000  \n",
            "9      0.275061          0.000000          0.748749  \n"
          ]
        }
      ],
      "source": [
        "recommendations = hybrid_recommendations(\n",
        "    user_id=1,\n",
        "    movie_title='Iron Man',\n",
        "    svd_model=svd_model, # Now this is the surprise SVD model\n",
        "    tfidf_matrix=tfidf_matrix,\n",
        "    movies_df=movies\n",
        ")\n",
        "\n",
        "print(recommendations)"
      ]
    }
  ],
  "metadata": {
    "colab": {
      "provenance": []
    },
    "kernelspec": {
      "display_name": "Python 3",
      "name": "python3"
    },
    "language_info": {
      "name": "python"
    }
  },
  "nbformat": 4,
  "nbformat_minor": 0
}