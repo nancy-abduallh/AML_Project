{
  "cells": [
    {
      "cell_type": "code",
      "execution_count": 1,
      "metadata": {
        "colab": {
          "base_uri": "https://localhost:8080/"
        },
        "id": "8mMOR4WtIznF",
        "outputId": "1ecaaa29-3923-47b4-b1f5-75ad60f31dfd"
      },
      "outputs": [
        {
          "output_type": "stream",
          "name": "stdout",
          "text": [
            "Mounted at /content/drive\n"
          ]
        }
      ],
      "source": [
        "from google.colab import drive\n",
        "drive.mount('/content/drive')"
      ]
    },
    {
      "cell_type": "code",
      "execution_count": 1,
      "metadata": {
        "colab": {
          "base_uri": "https://localhost:8080/"
        },
        "id": "W30iO1aZ9wsC",
        "outputId": "7f55bf7a-af92-49fa-e1d7-2b8c7e25254e"
      },
      "outputs": [
        {
          "output_type": "stream",
          "name": "stdout",
          "text": [
            "Requirement already satisfied: numpy==1.24.4 in /usr/local/lib/python3.11/dist-packages (1.24.4)\n"
          ]
        }
      ],
      "source": [
        "%pip install numpy==1.24.4"
      ]
    },
    {
      "cell_type": "code",
      "execution_count": 2,
      "metadata": {
        "colab": {
          "base_uri": "https://localhost:8080/"
        },
        "id": "gp1om4_x99u_",
        "outputId": "b2f677ac-3bed-43dd-ac46-26bf5e977ddb"
      },
      "outputs": [
        {
          "output_type": "stream",
          "name": "stdout",
          "text": [
            "Collecting scikit-surprise\n",
            "  Using cached scikit_surprise-1.1.4.tar.gz (154 kB)\n",
            "  Installing build dependencies ... \u001b[?25l\u001b[?25hdone\n",
            "  Getting requirements to build wheel ... \u001b[?25l\u001b[?25hdone\n",
            "  Preparing metadata (pyproject.toml) ... \u001b[?25l\u001b[?25hdone\n",
            "Requirement already satisfied: joblib>=1.2.0 in /usr/local/lib/python3.11/dist-packages (from scikit-surprise) (1.5.0)\n",
            "Requirement already satisfied: numpy>=1.19.5 in /usr/local/lib/python3.11/dist-packages (from scikit-surprise) (1.24.4)\n",
            "Requirement already satisfied: scipy>=1.6.0 in /usr/local/lib/python3.11/dist-packages (from scikit-surprise) (1.15.3)\n",
            "Building wheels for collected packages: scikit-surprise\n",
            "  Building wheel for scikit-surprise (pyproject.toml) ... \u001b[?25l\u001b[?25hdone\n",
            "  Created wheel for scikit-surprise: filename=scikit_surprise-1.1.4-cp311-cp311-linux_x86_64.whl size=2463296 sha256=6ba56e182cc036ab41f41b92731309cb8f8368aca9e52e21d287c564d65ee860\n",
            "  Stored in directory: /root/.cache/pip/wheels/2a/8f/6e/7e2899163e2d85d8266daab4aa1cdabec7a6c56f83c015b5af\n",
            "Successfully built scikit-surprise\n",
            "Installing collected packages: scikit-surprise\n",
            "Successfully installed scikit-surprise-1.1.4\n"
          ]
        }
      ],
      "source": [
        "%pip install scikit-surprise"
      ]
    },
    {
      "cell_type": "code",
      "execution_count": 3,
      "metadata": {
        "id": "n9Cqce56KSvm"
      },
      "outputs": [],
      "source": [
        "import pandas as pd\n",
        "import numpy as np\n",
        "import matplotlib.pyplot as plt\n",
        "import seaborn as sns\n",
        "from collections import defaultdict\n",
        "from surprise import SVD, Dataset, Reader, accuracy\n",
        "from surprise.model_selection import train_test_split, RandomizedSearchCV\n",
        "from sklearn.metrics.pairwise import cosine_similarity\n",
        "from sklearn.metrics import (\n",
        "    mean_squared_error, mean_absolute_error,\n",
        "    precision_score, recall_score, f1_score,\n",
        "    roc_auc_score, roc_curve, confusion_matrix\n",
        ")"
      ]
    },
    {
      "cell_type": "code",
      "execution_count": 4,
      "metadata": {
        "id": "cYHcZRNNKTDB"
      },
      "outputs": [],
      "source": [
        "ratings = pd.read_csv('/content/drive/My Drive/Datasets/ratings.csv')\n",
        "movies = pd.read_csv('/content/drive/My Drive/Datasets/movies.csv')\n",
        "\n",
        "ratings.drop_duplicates(subset=['userId', 'movieId'], inplace=True)\n",
        "ratings = ratings.drop('timestamp', axis=1)"
      ]
    },
    {
      "cell_type": "code",
      "execution_count": 5,
      "metadata": {
        "colab": {
          "base_uri": "https://localhost:8080/"
        },
        "id": "tVywzjQw6dWM",
        "outputId": "25104043-c99a-4c5b-ef55-60e91ad2f4fe"
      },
      "outputs": [
        {
          "output_type": "stream",
          "name": "stdout",
          "text": [
            "Ratings Count:\n",
            "userId     25000095\n",
            "movieId    25000095\n",
            "rating     25000095\n",
            "dtype: int64\n",
            "\n",
            "Movies Count:\n",
            "movieId    62423\n",
            "title      62423\n",
            "genres     62423\n",
            "dtype: int64\n"
          ]
        }
      ],
      "source": [
        "print(\"Ratings Count:\")\n",
        "print(ratings.count())\n",
        "print(\"\\nMovies Count:\")\n",
        "print(movies.count())"
      ]
    },
    {
      "cell_type": "code",
      "execution_count": 6,
      "metadata": {
        "colab": {
          "base_uri": "https://localhost:8080/"
        },
        "id": "IMZqwD_96da8",
        "outputId": "427a5fcb-00b2-4509-bd8a-ddedcce2b4c6"
      },
      "outputs": [
        {
          "output_type": "stream",
          "name": "stdout",
          "text": [
            "Ratings Data:\n",
            "   userId  movieId  rating\n",
            "0       1      296     5.0\n",
            "1       1      306     3.5\n",
            "2       1      307     5.0\n",
            "3       1      665     5.0\n",
            "4       1      899     3.5\n",
            "\n",
            "Movies Data:\n",
            "   movieId                               title  \\\n",
            "0        1                    Toy Story (1995)   \n",
            "1        2                      Jumanji (1995)   \n",
            "2        3             Grumpier Old Men (1995)   \n",
            "3        4            Waiting to Exhale (1995)   \n",
            "4        5  Father of the Bride Part II (1995)   \n",
            "\n",
            "                                        genres  \n",
            "0  Adventure|Animation|Children|Comedy|Fantasy  \n",
            "1                   Adventure|Children|Fantasy  \n",
            "2                               Comedy|Romance  \n",
            "3                         Comedy|Drama|Romance  \n",
            "4                                       Comedy  \n"
          ]
        }
      ],
      "source": [
        "print(\"Ratings Data:\")\n",
        "print(ratings.head(5))\n",
        "print(\"\\nMovies Data:\")\n",
        "print(movies.head(5))"
      ]
    },
    {
      "cell_type": "code",
      "execution_count": 7,
      "metadata": {
        "colab": {
          "base_uri": "https://localhost:8080/"
        },
        "id": "wCi2G6hN6pLF",
        "outputId": "51a10b2e-5e77-4e2c-cddf-81bb422c211c"
      },
      "outputs": [
        {
          "output_type": "stream",
          "name": "stdout",
          "text": [
            "\n",
            "Missing values in ratings: userId     0\n",
            "movieId    0\n",
            "rating     0\n",
            "dtype: int64\n",
            "Missing values in movies: movieId    0\n",
            "title      0\n",
            "genres     0\n",
            "dtype: int64\n"
          ]
        }
      ],
      "source": [
        "print(\"\\nMissing values in ratings:\", ratings.isnull().sum())\n",
        "print(\"Missing values in movies:\", movies.isnull().sum())"
      ]
    },
    {
      "cell_type": "code",
      "execution_count": 8,
      "metadata": {
        "colab": {
          "base_uri": "https://localhost:8080/"
        },
        "id": "RxbD77ldLLsn",
        "outputId": "6408a79a-7f3f-42b4-c569-b59a454efac1"
      },
      "outputs": [
        {
          "output_type": "stream",
          "name": "stdout",
          "text": [
            "Before filtering: 162541 users, 59047 movies, 25000095 ratings\n",
            "\n",
            "After filtering: 162541 users, 24330 movies, 20000000 ratings\n"
          ]
        }
      ],
      "source": [
        "\n",
        "min_user_ratings = 10\n",
        "min_movie_ratings = 10\n",
        "\n",
        "filter_users = ratings['userId'].value_counts() >= min_user_ratings\n",
        "filter_users = filter_users[filter_users].index.tolist()\n",
        "\n",
        "filter_movies = ratings['movieId'].value_counts() >= min_movie_ratings\n",
        "filter_movies = filter_movies[filter_movies].index.tolist()\n",
        "\n",
        "print(f\"Before filtering: {ratings['userId'].nunique()} users, \"\n",
        "      f\"{ratings['movieId'].nunique()} movies, {len(ratings)} ratings\")\n",
        "\n",
        "\n",
        "ratings = ratings[\n",
        "    (ratings['userId'].isin(filter_users)) &\n",
        "    (ratings['movieId'].isin(filter_movies))\n",
        "].sample(n=20_000_000, random_state=42).reset_index(drop=True)\n",
        "\n",
        "print(f\"\\nAfter filtering: {ratings['userId'].nunique()} users, \"\n",
        "      f\"{ratings['movieId'].nunique()} movies, {len(ratings)} ratings\")\n",
        "\n",
        "valid_movie_ids = ratings['movieId'].unique()\n",
        "movies = movies[movies['movieId'].isin(valid_movie_ids)]"
      ]
    },
    {
      "cell_type": "code",
      "execution_count": 9,
      "metadata": {
        "colab": {
          "base_uri": "https://localhost:8080/",
          "height": 564
        },
        "id": "mFnR_Yna6ucX",
        "outputId": "759b2d8d-bdc2-4354-8eda-67b14538d31e"
      },
      "outputs": [
        {
          "output_type": "display_data",
          "data": {
            "text/plain": [
              "<Figure size 1000x600 with 1 Axes>"
            ],
            "image/png": "[encoded data removed]"
          },
          "metadata": {}
        }
      ],
      "source": [
        "plt.figure(figsize=(10, 6))\n",
        "sns.countplot(x='rating', data=ratings)\n",
        "plt.title('Distribution of Ratings After Filtering')\n",
        "plt.show()"
      ]
    },
    {
      "cell_type": "code",
      "execution_count": 10,
      "metadata": {
        "id": "lGWj9Ud3Mc2m"
      },
      "outputs": [],
      "source": [
        "reader = Reader(rating_scale=(0.5, 5))\n",
        "data = Dataset.load_from_df(ratings[['userId', 'movieId', 'rating']], reader)"
      ]
    },
    {
      "cell_type": "code",
      "execution_count": 11,
      "metadata": {
        "id": "dm48rYYkMc94"
      },
      "outputs": [],
      "source": [
        "trainset, testset = train_test_split(data, test_size=0.2, random_state=42)\n"
      ]
    },
    {
      "cell_type": "code",
      "execution_count": 12,
      "metadata": {
        "colab": {
          "base_uri": "https://localhost:8080/"
        },
        "id": "r7dPPAtnM4ks",
        "outputId": "3b68efb0-130d-44f7-cc6a-7f28b4cffdee"
      },
      "outputs": [
        {
          "output_type": "stream",
          "name": "stdout",
          "text": [
            "RMSE: 0.7893\n",
            "MAE:  0.5958\n",
            "SVD → RMSE: 0.7893, MAE: 0.5958\n"
          ]
        }
      ],
      "source": [
        "# param_grid = {\n",
        "#     'n_factors':    [50, 100, 150],\n",
        "#     'n_epochs':     [20, 50],\n",
        "#     'lr_all':       [0.005, 0.007],\n",
        "#     'reg_all':      [0.02, 0.05]\n",
        "# }\n",
        "\n",
        "# gs = RandomizedSearchCV(\n",
        "#     SVDpp, param_grid, n_iter=16,\n",
        "#     measures=['rmse','mae'],\n",
        "#     cv=2,\n",
        "#     n_jobs=-1, random_state=42\n",
        "# )\n",
        "# gs.fit(data)\n",
        "\n",
        "# best_params = gs.best_params['rmse']\n",
        "# print(\"Best params:\", best_params)\n",
        "\n",
        "class SVDWithHistory(SVD):\n",
        "    def fit(self, trainset):\n",
        "        super().fit(trainset)\n",
        "        self.train_losses = []\n",
        "        for epoch in range(self.n_epochs):\n",
        "            loss = 0\n",
        "            for uid, iid, true_r in trainset.all_ratings():\n",
        "                est = self.predict(uid, iid, verbose=False).est\n",
        "                loss += (true_r - est) ** 2\n",
        "            self.train_losses.append(loss / trainset.n_ratings)\n",
        "        return self\n",
        "\n",
        "model = SVDWithHistory(n_factors=100, n_epochs=20, lr_all=0.005, reg_all=0.02, random_state=42)\n",
        "model.fit(trainset)\n",
        "\n",
        "predictions = model.test(testset)\n",
        "\n",
        "rmse = accuracy.rmse(predictions)\n",
        "mae = accuracy.mae(predictions)\n",
        "\n",
        "print(f\"SVD → RMSE: {rmse:.4f}, MAE: {mae:.4f}\")"
      ]
    },
    {
      "cell_type": "code",
      "execution_count": 13,
      "metadata": {
        "colab": {
          "base_uri": "https://localhost:8080/"
        },
        "id": "Yc5to38XwGkq",
        "outputId": "8a314578-f7f4-42bb-ed18-f88f8f19ab5a"
      },
      "outputs": [
        {
          "output_type": "stream",
          "name": "stdout",
          "text": [
            "Classification Metrics:\n",
            " Precision: 0.8462\n",
            " Recall:    0.4778\n",
            " F1-Score:  0.6108\n",
            " AUC-ROC:   0.8267\n"
          ]
        }
      ],
      "source": [
        "threshold = 4.0\n",
        "y_true = np.array([1 if pred.r_ui >= threshold else 0 for pred in predictions])\n",
        "y_pred = np.array([1 if pred.est  >= threshold else 0 for pred in predictions])\n",
        "y_score = np.array([pred.est for pred in predictions])\n",
        "\n",
        "precision = precision_score(y_true, y_pred)\n",
        "recall    = recall_score(y_true, y_pred)\n",
        "f1        = f1_score(y_true, y_pred)\n",
        "auc       = roc_auc_score(y_true, y_score)\n",
        "\n",
        "print(\"Classification Metrics:\")\n",
        "print(f\" Precision: {precision:.4f}\")\n",
        "print(f\" Recall:    {recall:.4f}\")\n",
        "print(f\" F1-Score:  {f1:.4f}\")\n",
        "print(f\" AUC-ROC:   {auc:.4f}\")"
      ]
    },
    {
      "cell_type": "code",
      "execution_count": 14,
      "metadata": {
        "colab": {
          "base_uri": "https://localhost:8080/",
          "height": 671
        },
        "id": "3DE6nebnRCVY",
        "outputId": "9c7ee9df-7b75-4ca0-d05c-c0b264e84dfb"
      },
      "outputs": [
        {
          "output_type": "stream",
          "name": "stderr",
          "text": [
            "<ipython-input-14-1882a0fad1d3>:5: FutureWarning: \n",
            "\n",
            "Passing `palette` without assigning `hue` is deprecated and will be removed in v0.14.0. Assign the `x` variable to `hue` and set `legend=False` for the same effect.\n",
            "\n",
            "  sns.barplot(x=metrics, y=values, palette='viridis')\n"
          ]
        },
        {
          "output_type": "display_data",
          "data": {
            "text/plain": [
              "<Figure size 800x600 with 1 Axes>"
            ],
            "image/png": "[encoded data removed]"
          },
          "metadata": {}
        }
      ],
      "source": [
        "metrics = ['Precision', 'Recall', 'F1 Score']\n",
        "values = [precision, recall, f1]\n",
        "\n",
        "plt.figure(figsize=(8, 6))\n",
        "sns.barplot(x=metrics, y=values, palette='viridis')\n",
        "plt.ylim(0, 1)\n",
        "plt.title('Classification Metrics')\n",
        "plt.ylabel('Score')\n",
        "plt.xlabel('Metric')\n",
        "plt.show()\n"
      ]
    },
    {
      "cell_type": "code",
      "execution_count": 15,
      "metadata": {
        "colab": {
          "base_uri": "https://localhost:8080/",
          "height": 410
        },
        "id": "81r4054QwLhX",
        "outputId": "00cec0c2-753a-42c3-80c0-b32a12c87713"
      },
      "outputs": [
        {
          "output_type": "display_data",
          "data": {
            "text/plain": [
              "<Figure size 500x400 with 2 Axes>"
            ],
            "image/png": "[encoded data removed]"
          },
          "metadata": {}
        }
      ],
      "source": [
        "cm = confusion_matrix(y_true, y_pred)\n",
        "plt.figure(figsize=(5,4))\n",
        "sns.heatmap(cm, annot=True, fmt='d', cmap='Blues')\n",
        "plt.xlabel('Predicted')\n",
        "plt.ylabel('Actual')\n",
        "plt.title('Confusion Matrix')\n",
        "plt.show()"
      ]
    },
    {
      "cell_type": "code",
      "execution_count": 16,
      "metadata": {
        "colab": {
          "base_uri": "https://localhost:8080/",
          "height": 487
        },
        "id": "Y8h2yFLDwN5Z",
        "outputId": "6ef13e3c-15e0-4b6a-9b84-1e8e505d6c16"
      },
      "outputs": [
        {
          "output_type": "display_data",
          "data": {
            "text/plain": [
              "<Figure size 600x500 with 1 Axes>"
            ],
            "image/png": "[encoded data removed]"
          },
          "metadata": {}
        }
      ],
      "source": [
        "fpr, tpr, _ = roc_curve(y_true, y_score)\n",
        "plt.figure(figsize=(6,5))\n",
        "plt.plot(fpr, tpr, label=f'AUC = {auc:.3f}')\n",
        "plt.plot([0,1],[0,1],'--')\n",
        "plt.xlabel('False Positive Rate')\n",
        "plt.ylabel('True Positive Rate')\n",
        "plt.title('ROC Curve')\n",
        "plt.legend()\n",
        "plt.show()"
      ]
    },
    {
      "cell_type": "code",
      "execution_count": 17,
      "metadata": {
        "id": "agwA1XiW8IQN"
      },
      "outputs": [],
      "source": [
        "def get_similar_users(user_id, model, n=5):\n",
        "    try:\n",
        "        user_inner_id = model.trainset.to_inner_uid(user_id)\n",
        "    except ValueError:\n",
        "        return []\n",
        "\n",
        "    user_factor = model.pu[user_inner_id]\n",
        "    all_user_factors = model.pu\n",
        "\n",
        "    similarities = cosine_similarity([user_factor], all_user_factors)[0]\n",
        "    sorted_indices = np.argsort(similarities)[::-1][1:n+1]\n",
        "\n",
        "    return [(model.trainset.to_raw_uid(i), similarities[i])\n",
        "            for i in sorted_indices]"
      ]
    },
    {
      "cell_type": "code",
      "execution_count": 18,
      "metadata": {
        "colab": {
          "base_uri": "https://localhost:8080/"
        },
        "id": "J-JwL4FS8IWy",
        "outputId": "b74c87c6-e916-496a-d44b-1d3d4c44a4ce"
      },
      "outputs": [
        {
          "output_type": "stream",
          "name": "stdout",
          "text": [
            "\n",
            "Users similar to User 7046:\n",
            "User 48665 with similarity 0.451\n",
            "User 80590 with similarity 0.427\n",
            "User 44542 with similarity 0.423\n",
            "User 79385 with similarity 0.417\n",
            "User 34790 with similarity 0.412\n"
          ]
        }
      ],
      "source": [
        "similar_users = get_similar_users(7046, model)\n",
        "print(\"\\nUsers similar to User 7046:\")\n",
        "for user_id, similarity in similar_users:\n",
        "    print(f\"User {user_id} with similarity {similarity:.3f}\")\n"
      ]
    },
    {
      "cell_type": "code",
      "execution_count": 19,
      "metadata": {
        "id": "NINC1S3IMIDx"
      },
      "outputs": [],
      "source": [
        "def get_top_recommendations(user_id, model, movies_df, n=10):\n",
        "    all_movie_ids = ratings['movieId'].unique()\n",
        "\n",
        "    user_rated_movies = ratings[ratings['userId'] == user_id]['movieId']\n",
        "\n",
        "    unseen_movies = [movie for movie in all_movie_ids if movie not in user_rated_movies.values]\n",
        "\n",
        "    testset = [[user_id, movie_id, 0.] for movie_id in unseen_movies]\n",
        "    predictions = model.test(testset)\n",
        "\n",
        "    top_predictions = sorted(predictions, key=lambda x: x.est, reverse=True)[:n]\n",
        "\n",
        "    top_movie_ids = [pred.iid for pred in top_predictions]\n",
        "    top_ratings = [pred.est for pred in top_predictions]\n",
        "    recommended_movies = movies_df[movies_df['movieId'].isin(top_movie_ids)]\n",
        "    recommended_movies = recommended_movies.copy()\n",
        "    recommended_movies['estimated_rating'] = top_ratings\n",
        "\n",
        "    return recommended_movies.sort_values('estimated_rating', ascending=False)\n"
      ]
    },
    {
      "cell_type": "code",
      "execution_count": 20,
      "metadata": {
        "colab": {
          "base_uri": "https://localhost:8080/"
        },
        "id": "iS_RDvcrMM4O",
        "outputId": "06624e8f-b8cf-4398-c44d-56ea49d47acc"
      },
      "outputs": [
        {
          "output_type": "stream",
          "name": "stdout",
          "text": [
            "\n",
            "Top 10 Recommendations for User 7046:\n",
            "                                                   title  \\\n",
            "33                                           Babe (1995)   \n",
            "729               Wallace & Gromit: A Close Shave (1995)   \n",
            "1167                          Princess Bride, The (1987)   \n",
            "7028   Lord of the Rings: The Return of the King, The...   \n",
            "7400                          Pride and Prejudice (1995)   \n",
            "17101             Turin Horse, The (A Torinói ló) (2011)   \n",
            "40597                                Planet Earth (2006)   \n",
            "44566                        Call Me by Your Name (2017)   \n",
            "45741                             Planet Earth II (2016)   \n",
            "51245                        Cosmos: A Spacetime Odissey   \n",
            "\n",
            "                                        genres  estimated_rating  \n",
            "33                              Children|Drama          5.000000  \n",
            "729                  Animation|Children|Comedy          5.000000  \n",
            "1167   Action|Adventure|Comedy|Fantasy|Romance          5.000000  \n",
            "7028            Action|Adventure|Drama|Fantasy          5.000000  \n",
            "7400                             Drama|Romance          5.000000  \n",
            "17101                                    Drama          5.000000  \n",
            "40597                              Documentary          4.989649  \n",
            "44566                            Drama|Romance          4.976181  \n",
            "45741                              Documentary          4.974264  \n",
            "51245                       (no genres listed)          4.948859  \n"
          ]
        }
      ],
      "source": [
        "user_id = 7046\n",
        "user_recommendations = get_top_recommendations(user_id, model, movies)\n",
        "print(f\"\\nTop 10 Recommendations for User {user_id}:\")\n",
        "print(user_recommendations[['title', 'genres', 'estimated_rating']])\n",
        "\n",
        "\n",
        "def calculate_metrics(predictions):\n",
        "    \"\"\"Calculate RMSE and MAE metrics\"\"\"\n",
        "    actual = np.array([pred.r_ui for pred in predictions])\n",
        "    predicted = np.array([pred.est for pred in predictions])\n",
        "\n",
        "    rmse = np.sqrt(mean_squared_error(actual, predicted))\n",
        "    mae = mean_absolute_error(actual, predicted)\n",
        "\n",
        "    return rmse, mae"
      ]
    },
    {
      "cell_type": "code",
      "execution_count": 21,
      "metadata": {
        "colab": {
          "base_uri": "https://localhost:8080/",
          "height": 537
        },
        "id": "nNZmQ72PMRTA",
        "outputId": "121792df-4bdf-4840-ca07-ff04ca4e372e"
      },
      "outputs": [
        {
          "output_type": "stream",
          "name": "stdout",
          "text": [
            "\n",
            "Final Model Metrics:\n",
            "RMSE: 0.7893\n",
            "MAE: 0.5958\n"
          ]
        },
        {
          "output_type": "display_data",
          "data": {
            "text/plain": [
              "<Figure size 800x500 with 1 Axes>"
            ],
            "image/png": "[encoded data removed]"
          },
          "metadata": {}
        }
      ],
      "source": [
        "rmse, mae = calculate_metrics(predictions)\n",
        "print(f\"\\nFinal Model Metrics:\")\n",
        "print(f\"RMSE: {rmse:.4f}\")\n",
        "print(f\"MAE: {mae:.4f}\")\n",
        "\n",
        "metrics = ['RMSE', 'MAE']\n",
        "values = [rmse, mae]\n",
        "\n",
        "plt.figure(figsize=(8, 5))\n",
        "sns.barplot(x=metrics, y=values)\n",
        "plt.title('Model Evaluation Metrics')\n",
        "plt.ylabel('Value')\n",
        "plt.show()"
      ]
    },
    {
      "cell_type": "code",
      "execution_count": 22,
      "metadata": {
        "colab": {
          "base_uri": "https://localhost:8080/"
        },
        "id": "BquUniANMXU6",
        "outputId": "2a410a12-dc66-4e08-ff11-74bac58c4f4e"
      },
      "outputs": [
        {
          "output_type": "stream",
          "name": "stdout",
          "text": [
            "\n",
            "Catalog Coverage: 0.04% of total movies\n",
            "Number of Unique Movies: 24330\n",
            "Number of Recommended Movies: 10\n"
          ]
        }
      ],
      "source": [
        "all_movie_ids = ratings['movieId'].unique()\n",
        "n_movies = len(all_movie_ids)\n",
        "n_recommended = len(user_recommendations)\n",
        "coverage = n_recommended / n_movies * 100\n",
        "\n",
        "print(f\"\\nCatalog Coverage: {coverage:.2f}% of total movies\")\n",
        "print(f\"Number of Unique Movies: {n_movies}\")\n",
        "print(f\"Number of Recommended Movies: {n_recommended}\")"
      ]
    }
  ],
  "metadata": {
    "accelerator": "GPU",
    "colab": {
      "gpuType": "T4",
      "provenance": []
    },
    "kernelspec": {
      "display_name": "Python 3",
      "name": "python3"
    },
    "language_info": {
      "name": "python"
    }
  },
  "nbformat": 4,
  "nbformat_minor": 0
}