{
  "nbformat": 4,
  "nbformat_minor": 0,
  "metadata": {
    "colab": {
      "provenance": []
    },
    "kernelspec": {
      "name": "python3",
      "display_name": "Python 3"
    },
    "language_info": {
      "name": "python"
    }
  },
  "cells": [
    {
      "cell_type": "code",
      "execution_count": 1,
      "metadata": {
        "colab": {
          "base_uri": "https://localhost:8080/"
        },
        "id": "sFdjmw8BsuCu",
        "outputId": "63c5399c-fcc6-46f4-991d-5ab7de48f94b"
      },
      "outputs": [
        {
          "output_type": "stream",
          "name": "stdout",
          "text": [
            "Mounted at /content/drive\n"
          ]
        }
      ],
      "source": [
        "from google.colab import drive\n",
        "drive.mount('/content/drive')"
      ]
    },
    {
      "cell_type": "code",
      "source": [
        "!pip install numpy==1.24.4"
      ],
      "metadata": {
        "colab": {
          "base_uri": "https://localhost:8080/"
        },
        "id": "FDZTuQt8nZ7b",
        "outputId": "9926ef76-69ee-41c3-abd9-1511c54860a5"
      },
      "execution_count": 1,
      "outputs": [
        {
          "output_type": "stream",
          "name": "stdout",
          "text": [
            "Requirement already satisfied: numpy==1.24.4 in /usr/local/lib/python3.11/dist-packages (1.24.4)\n"
          ]
        }
      ]
    },
    {
      "cell_type": "code",
      "source": [
        "!pip install scikit-surprise"
      ],
      "metadata": {
        "colab": {
          "base_uri": "https://localhost:8080/"
        },
        "id": "qgS3NHJfnaJp",
        "outputId": "57ed401e-09d3-433a-92ed-fe6c35437a61"
      },
      "execution_count": 2,
      "outputs": [
        {
          "output_type": "stream",
          "name": "stdout",
          "text": [
            "Collecting scikit-surprise\n",
            "  Downloading scikit_surprise-1.1.4.tar.gz (154 kB)\n",
            "\u001b[?25l     \u001b[90m━━━━━━━━━━━━━━━━━━━━━━━━━━━━━━━━━━━━━━━━\u001b[0m \u001b[32m0.0/154.4 kB\u001b[0m \u001b[31m?\u001b[0m eta \u001b[36m-:--:--\u001b[0m\r\u001b[2K     \u001b[91m━━━━━━━━━━━━━━━━━━━━━━━━━━━━━━━━━━━━━━\u001b[0m\u001b[91m╸\u001b[0m \u001b[32m153.6/154.4 kB\u001b[0m \u001b[31m5.3 MB/s\u001b[0m eta \u001b[36m0:00:01\u001b[0m\r\u001b[2K     \u001b[90m━━━━━━━━━━━━━━━━━━━━━━━━━━━━━━━━━━━━━━━\u001b[0m \u001b[32m154.4/154.4 kB\u001b[0m \u001b[31m3.5 MB/s\u001b[0m eta \u001b[36m0:00:00\u001b[0m\n",
            "\u001b[?25h  Installing build dependencies ... \u001b[?25l\u001b[?25hdone\n",
            "  Getting requirements to build wheel ... \u001b[?25l\u001b[?25hdone\n",
            "  Preparing metadata (pyproject.toml) ... \u001b[?25l\u001b[?25hdone\n",
            "Requirement already satisfied: joblib>=1.2.0 in /usr/local/lib/python3.11/dist-packages (from scikit-surprise) (1.4.2)\n",
            "Requirement already satisfied: numpy>=1.19.5 in /usr/local/lib/python3.11/dist-packages (from scikit-surprise) (1.24.4)\n",
            "Requirement already satisfied: scipy>=1.6.0 in /usr/local/lib/python3.11/dist-packages (from scikit-surprise) (1.14.1)\n",
            "Building wheels for collected packages: scikit-surprise\n",
            "  Building wheel for scikit-surprise (pyproject.toml) ... \u001b[?25l\u001b[?25hdone\n",
            "  Created wheel for scikit-surprise: filename=scikit_surprise-1.1.4-cp311-cp311-linux_x86_64.whl size=2505211 sha256=a6f9c7c7d8035fc1f2ed81a55c74a96fd12bd25f8e8c3f3c2e809b4eabaeb09d\n",
            "  Stored in directory: /root/.cache/pip/wheels/2a/8f/6e/7e2899163e2d85d8266daab4aa1cdabec7a6c56f83c015b5af\n",
            "Successfully built scikit-surprise\n",
            "Installing collected packages: scikit-surprise\n",
            "Successfully installed scikit-surprise-1.1.4\n"
          ]
        }
      ]
    },
    {
      "cell_type": "code",
      "source": [
        "import pandas as pd\n",
        "import numpy as np\n",
        "from surprise import SVD, Dataset, Reader\n",
        "from surprise.model_selection import train_test_split\n",
        "from sklearn.feature_extraction.text import TfidfVectorizer\n",
        "from sklearn.metrics.pairwise import cosine_similarity\n",
        "from sklearn.preprocessing import MinMaxScaler\n",
        "from sklearn.metrics import (\n",
        "    mean_squared_error, mean_absolute_error,\n",
        "    precision_score, recall_score, f1_score,\n",
        "    roc_auc_score, roc_curve, confusion_matrix\n",
        ")\n",
        "import matplotlib.pyplot as plt\n",
        "import seaborn as sns"
      ],
      "metadata": {
        "id": "bLz0C1mmJRrm"
      },
      "execution_count": 4,
      "outputs": []
    },
    {
      "cell_type": "code",
      "source": [
        "ratings = pd.read_csv('/content/drive/My Drive/Datasets/ratings.csv')\n",
        "movies  = pd.read_csv('/content/drive/My Drive/Datasets/movies.csv')\n",
        "\n",
        "print(ratings.head())\n",
        "print(movies.head())"
      ],
      "metadata": {
        "colab": {
          "base_uri": "https://localhost:8080/"
        },
        "id": "EzpIAmk7JR0D",
        "outputId": "46946ed7-4840-4c44-85f6-23643269916e"
      },
      "execution_count": 5,
      "outputs": [
        {
          "output_type": "stream",
          "name": "stdout",
          "text": [
            "   userId  movieId  rating   timestamp\n",
            "0       1      296     5.0  1147880044\n",
            "1       1      306     3.5  1147868817\n",
            "2       1      307     5.0  1147868828\n",
            "3       1      665     5.0  1147878820\n",
            "4       1      899     3.5  1147868510\n",
            "   movieId                               title  \\\n",
            "0        1                    Toy Story (1995)   \n",
            "1        2                      Jumanji (1995)   \n",
            "2        3             Grumpier Old Men (1995)   \n",
            "3        4            Waiting to Exhale (1995)   \n",
            "4        5  Father of the Bride Part II (1995)   \n",
            "\n",
            "                                        genres  \n",
            "0  Adventure|Animation|Children|Comedy|Fantasy  \n",
            "1                   Adventure|Children|Fantasy  \n",
            "2                               Comedy|Romance  \n",
            "3                         Comedy|Drama|Romance  \n",
            "4                                       Comedy  \n"
          ]
        }
      ]
    },
    {
      "cell_type": "code",
      "source": [
        "movies['title'] = movies['title'].str.replace(r'\\(\\d{4}\\)', '', regex=True).str.strip()\n",
        "movies['metadata'] = movies['title'] + ' ' + movies['genres'].str.replace('|', ' ')"
      ],
      "metadata": {
        "id": "E4O3Kz3ejz9f"
      },
      "execution_count": 6,
      "outputs": []
    },
    {
      "cell_type": "code",
      "source": [
        "print(\"Ratings Count:\")\n",
        "print(ratings.count())\n",
        "print(\"\\nMovies Count:\")\n",
        "print(movies.count())"
      ],
      "metadata": {
        "colab": {
          "base_uri": "https://localhost:8080/"
        },
        "id": "aKplBzsJruXA",
        "outputId": "dc1d32d0-8743-4782-dd72-a20b3db9b019"
      },
      "execution_count": 7,
      "outputs": [
        {
          "output_type": "stream",
          "name": "stdout",
          "text": [
            "Ratings Count:\n",
            "userId       25000095\n",
            "movieId      25000095\n",
            "rating       25000095\n",
            "timestamp    25000095\n",
            "dtype: int64\n",
            "\n",
            "Movies Count:\n",
            "movieId     62423\n",
            "title       62423\n",
            "genres      62423\n",
            "metadata    62423\n",
            "dtype: int64\n"
          ]
        }
      ]
    },
    {
      "cell_type": "code",
      "source": [
        "#Collaborative Filtering with Matrix Factorization (SVD)\n",
        "reader = Reader(rating_scale=(0.5, 5.0))\n",
        "data = Dataset.load_from_df(ratings[['userId', 'movieId', 'rating']], reader)\n",
        "\n",
        "trainset, testset = train_test_split(data, test_size=0.2, random_state=42)\n",
        "svd = SVD(n_factors=100, random_state=42)\n",
        "svd.fit(trainset)"
      ],
      "metadata": {
        "id": "NTkC-9pOt6A7",
        "colab": {
          "base_uri": "https://localhost:8080/"
        },
        "outputId": "32617e9d-6427-4216-ecfe-f2179a9103b1"
      },
      "execution_count": 8,
      "outputs": [
        {
          "output_type": "execute_result",
          "data": {
            "text/plain": [
              "<surprise.prediction_algorithms.matrix_factorization.SVD at 0x794f95973150>"
            ]
          },
          "metadata": {},
          "execution_count": 8
        }
      ]
    },
    {
      "cell_type": "code",
      "source": [
        "preds = svd.test(testset)\n",
        "y_true = np.array([p.r_ui   for p in preds])\n",
        "y_pred = np.array([p.est    for p in preds])\n",
        "\n",
        "mse = mean_squared_error(y_true, y_pred)\n",
        "mae = mean_absolute_error(y_true, y_pred)\n",
        "print(f\"Error Metrics → MSE: {mse:.4f}, MAE: {mae:.4f}\")"
      ],
      "metadata": {
        "colab": {
          "base_uri": "https://localhost:8080/"
        },
        "id": "XgC_Z6j51B8b",
        "outputId": "a29b7d53-1f6a-4980-d7c2-db3a217b48f7"
      },
      "execution_count": 9,
      "outputs": [
        {
          "output_type": "stream",
          "name": "stdout",
          "text": [
            "Error Metrics → MSE: 0.6042, MAE: 0.5865\n"
          ]
        }
      ]
    },
    {
      "cell_type": "code",
      "source": [
        "thr     = 4.0\n",
        "y_true_b = (y_true >= thr).astype(int)\n",
        "y_pred_b = (y_pred >= thr).astype(int)\n",
        "y_score  = y_pred  # for ROC\n",
        "\n",
        "precision = precision_score(y_true_b, y_pred_b)\n",
        "recall    = recall_score(y_true_b, y_pred_b)\n",
        "f1        = f1_score(y_true_b, y_pred_b)\n",
        "auc       = roc_auc_score(y_true_b, y_score)\n",
        "print(\"Classification Metrics:\")\n",
        "print(f\" Precision: {precision:.4f}\")\n",
        "print(f\" Recall:    {recall:.4f}\")\n",
        "print(f\" F1-Score:  {f1:.4f}\")\n",
        "print(f\" AUC-ROC:   {auc:.4f}\")"
      ],
      "metadata": {
        "colab": {
          "base_uri": "https://localhost:8080/"
        },
        "id": "aYs2oNBN1CDl",
        "outputId": "e72cfa88-ce35-437c-a677-c4437f5592c3"
      },
      "execution_count": 10,
      "outputs": [
        {
          "output_type": "stream",
          "name": "stdout",
          "text": [
            "Classification Metrics:\n",
            " Precision: 0.8521\n",
            " Recall:    0.4829\n",
            " F1-Score:  0.6164\n",
            " AUC-ROC:   0.8328\n"
          ]
        }
      ]
    },
    {
      "cell_type": "code",
      "source": [
        "plt.figure(figsize=(6,4))\n",
        "sns.barplot(x=['MSE','MAE'], y=[mse, mae])\n",
        "plt.title('Error Metrics Comparison')\n",
        "plt.ylabel('Value')\n",
        "plt.show()"
      ],
      "metadata": {
        "colab": {
          "base_uri": "https://localhost:8080/",
          "height": 391
        },
        "id": "WCX7Y2sT1CKl",
        "outputId": "32f1a59f-4df1-4aef-bd33-ea3cde01823e"
      },
      "execution_count": 11,
      "outputs": [
        {
          "output_type": "display_data",
          "data": {
            "text/plain": [
              "<Figure size 600x400 with 1 Axes>"
            ],
            "image/png": "[encoded data removed]"
          },
          "metadata": {}
        }
      ]
    },
    {
      "cell_type": "code",
      "source": [
        "cm = confusion_matrix(y_true_b, y_pred_b)\n",
        "plt.figure(figsize=(5,4))\n",
        "sns.heatmap(cm, annot=True, fmt='d', cmap='Blues')\n",
        "plt.title('Confusion Matrix (thr=4.0)')\n",
        "plt.xlabel('Predicted')\n",
        "plt.ylabel('Actual')\n",
        "plt.show()"
      ],
      "metadata": {
        "colab": {
          "base_uri": "https://localhost:8080/",
          "height": 410
        },
        "id": "9nv1cnxG1J26",
        "outputId": "0551b5d6-bf19-4039-8834-73e2c4dd32c9"
      },
      "execution_count": 12,
      "outputs": [
        {
          "output_type": "display_data",
          "data": {
            "text/plain": [
              "<Figure size 500x400 with 2 Axes>"
            ],
            "image/png": "[encoded data removed]"
          },
          "metadata": {}
        }
      ]
    },
    {
      "cell_type": "code",
      "source": [
        "fpr, tpr, _ = roc_curve(y_true_b, y_score)\n",
        "plt.figure(figsize=(6,5))\n",
        "plt.plot(fpr, tpr, label=f'AUC = {auc:.3f}')\n",
        "plt.plot([0,1],[0,1],'--', label='Random')\n",
        "plt.title('ROC Curve')\n",
        "plt.xlabel('False Positive Rate')\n",
        "plt.ylabel('True Positive Rate')\n",
        "plt.legend()\n",
        "plt.show()"
      ],
      "metadata": {
        "colab": {
          "base_uri": "https://localhost:8080/",
          "height": 487
        },
        "id": "IO5TPKD-1J-k",
        "outputId": "6bf35848-3795-4a8c-a0e5-d2c36dbbfc55"
      },
      "execution_count": 13,
      "outputs": [
        {
          "output_type": "display_data",
          "data": {
            "text/plain": [
              "<Figure size 600x500 with 1 Axes>"
            ],
            "image/png": "[encoded data removed]"
          },
          "metadata": {}
        }
      ]
    },
    {
      "cell_type": "code",
      "source": [
        "#Content-Based Filtering using TF-IDF + Cosine Similarity on genres\n",
        "tfidf = TfidfVectorizer(stop_words='english', max_features=10000)\n",
        "tfidf_matrix = tfidf.fit_transform(movies['metadata'])"
      ],
      "metadata": {
        "id": "D8j3_t4eJR35"
      },
      "execution_count": 14,
      "outputs": []
    },
    {
      "cell_type": "code",
      "source": [
        "def get_collaborative_recommendations(user_id, model, movies_df, n=10):\n",
        "    all_movie_ids = movies_df['movieId'].unique()\n",
        "    rated_movies = ratings[ratings['userId'] == user_id]['movieId'].unique()\n",
        "    unrated_movies = list(set(all_movie_ids) - set(rated_movies))\n",
        "\n",
        "    testset = [[user_id, movie_id, 0] for movie_id in unrated_movies]\n",
        "    predictions = model.test(testset)\n",
        "\n",
        "    top_predictions = sorted(predictions, key=lambda x: x.est, reverse=True)[:n*2]\n",
        "    return pd.DataFrame({\n",
        "        'movieId': [pred.iid for pred in top_predictions],\n",
        "        'predicted_rating': [pred.est for pred in top_predictions]\n",
        "    })"
      ],
      "metadata": {
        "id": "oc_JMWcDJR7r"
      },
      "execution_count": 15,
      "outputs": []
    },
    {
      "cell_type": "code",
      "source": [
        "def get_content_recommendations(movie_title, tfidf_matrix, movies_df, n=10):\n",
        "    movie_idx = movies_df.index[movies_df['title'] == movie_title].tolist()\n",
        "    if not movie_idx:\n",
        "        return pd.DataFrame()\n",
        "    movie_idx = movie_idx[0]\n",
        "\n",
        "    cosine_sim = cosine_similarity(tfidf_matrix[movie_idx], tfidf_matrix).flatten()\n",
        "    top_indices = cosine_sim.argsort()[-n-1:-1][::-1]\n",
        "\n",
        "    return pd.DataFrame({\n",
        "        'movieId': movies_df.iloc[top_indices]['movieId'].values,\n",
        "        'similarity_score': cosine_sim[top_indices]\n",
        "    })"
      ],
      "metadata": {
        "id": "d0NcFTnRkHbi"
      },
      "execution_count": 16,
      "outputs": []
    },
    {
      "cell_type": "code",
      "source": [
        "def hybrid_recommendations(user_id, movie_title, svd_model, tfidf_matrix, movies_df, n=10):\n",
        "\n",
        "    collab_recs = get_collaborative_recommendations(user_id, svd_model, movies_df, n*2)\n",
        "    content_recs = get_content_recommendations(movie_title, tfidf_matrix, movies_df, n*2)\n",
        "\n",
        "    if collab_recs.empty and content_recs.empty:\n",
        "        return pd.DataFrame()\n",
        "\n",
        "    collab_min = collab_recs['predicted_rating'].min() if not collab_recs.empty else 0\n",
        "    collab_max = collab_recs['predicted_rating'].max() if not collab_recs.empty else 1\n",
        "    content_min = content_recs['similarity_score'].min() if not content_recs.empty else 0\n",
        "    content_max = content_recs['similarity_score'].max() if not content_recs.empty else 1\n",
        "\n",
        "\n",
        "    all_movies = set(collab_recs['movieId']).union(set(content_recs['movieId']))\n",
        "    hybrid_df = pd.DataFrame({'movieId': list(all_movies)})\n",
        "\n",
        "    hybrid_df = pd.merge(hybrid_df, collab_recs, on='movieId', how='left')\n",
        "    hybrid_df = pd.merge(hybrid_df, content_recs, on='movieId', how='left')\n",
        "\n",
        "\n",
        "    hybrid_df['predicted_rating_norm'] = (hybrid_df['predicted_rating'] - collab_min) / (collab_max - collab_min + 1e-10)\n",
        "    hybrid_df['similarity_score_norm'] = (hybrid_df['similarity_score'] - content_min) / (content_max - content_min + 1e-10)\n",
        "\n",
        "\n",
        "    hybrid_df.fillna(0, inplace=True)\n",
        "    hybrid_df['hybrid_score'] = 0.5 * hybrid_df['predicted_rating_norm'] + 0.5 * hybrid_df['similarity_score_norm']\n",
        "\n",
        "    top_hybrid = hybrid_df.sort_values('hybrid_score', ascending=False).head(n)\n",
        "    top_hybrid = pd.merge(top_hybrid, movies_df[['movieId', 'title', 'genres']], on='movieId', how='left')\n",
        "\n",
        "    return top_hybrid[['movieId', 'title', 'genres', 'hybrid_score', 'predicted_rating', 'similarity_score']]"
      ],
      "metadata": {
        "id": "k_InJrlckPGY"
      },
      "execution_count": 17,
      "outputs": []
    },
    {
      "cell_type": "code",
      "source": [
        "recommendations = hybrid_recommendations(\n",
        "    user_id=1,\n",
        "    movie_title='Iron Man',\n",
        "    svd_model=svd,\n",
        "    tfidf_matrix=tfidf_matrix,\n",
        "    movies_df=movies\n",
        ")\n",
        "\n",
        "print(recommendations)"
      ],
      "metadata": {
        "colab": {
          "base_uri": "https://localhost:8080/"
        },
        "id": "st7w0SxsfqiE",
        "outputId": "08154381-869c-43ef-bb32-064ac1379131"
      },
      "execution_count": 18,
      "outputs": [
        {
          "output_type": "stream",
          "name": "stdout",
          "text": [
            "   movieId                      title                                 genres  \\\n",
            "0     2997       Being John Malkovich                   Comedy|Drama|Fantasy   \n",
            "1    77561                 Iron Man 2  Action|Adventure|Sci-Fi|Thriller|IMAX   \n",
            "2      608                      Fargo            Comedy|Crime|Drama|Thriller   \n",
            "3     1199                     Brazil                         Fantasy|Sci-Fi   \n",
            "4   102125                 Iron Man 3            Action|Sci-Fi|Thriller|IMAX   \n",
            "5   167296                   Iron Man                                  Drama   \n",
            "6   147070                   Iron Man                                  Drama   \n",
            "7     1206        Clockwork Orange, A            Crime|Drama|Sci-Fi|Thriller   \n",
            "8   194228               The Iron Man                  Action|Comedy|Fantasy   \n",
            "9     2360  Celebration, The (Festen)                                  Drama   \n",
            "\n",
            "   hybrid_score  predicted_rating  similarity_score  \n",
            "0      0.500000          4.729890          0.000000  \n",
            "1      0.500000          0.000000          0.848694  \n",
            "2      0.431175          4.690454          0.000000  \n",
            "3      0.414522          4.680912          0.000000  \n",
            "4      0.382683          0.000000          0.794200  \n",
            "5      0.334186          0.000000          0.771673  \n",
            "6      0.334186          0.000000          0.771673  \n",
            "7      0.310758          4.621456          0.000000  \n",
            "8      0.284834          0.000000          0.748749  \n",
            "9      0.244912          4.583727          0.000000  \n"
          ]
        }
      ]
    }
  ]
}