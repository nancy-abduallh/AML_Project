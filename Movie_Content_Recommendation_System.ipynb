{
  "cells": [
    {
      "cell_type": "code",
      "execution_count": 46,
      "id": "528dbcde",
      "metadata": {
        "id": "528dbcde"
      },
      "outputs": [],
      "source": [
        "import pandas as pd\n",
        "import numpy as np\n",
        "import ast\n",
        "from sklearn.feature_extraction.text import TfidfVectorizer\n",
        "from sklearn.metrics.pairwise import cosine_similarity\n",
        "from sklearn.metrics import mean_squared_error, mean_absolute_error\n",
        "from sklearn.metrics import precision_score, recall_score, f1_score, roc_auc_score, roc_curve, confusion_matrix\n",
        "import matplotlib.pyplot as plt\n",
        "import seaborn as sns"
      ]
    },
    {
      "cell_type": "code",
      "execution_count": 47,
      "id": "d87de5b9",
      "metadata": {
        "id": "d87de5b9"
      },
      "outputs": [],
      "source": [
        "movies = pd.read_csv('movie.csv')\n",
        "tags = pd.read_csv('tag.csv')\n",
        "genome_scores = pd.read_csv('genome_scores.csv')\n",
        "genome_tags = pd.read_csv('genome_tags.csv')\n",
        "\n"
      ]
    },
    {
      "cell_type": "code",
      "execution_count": 48,
      "id": "8415c1b7",
      "metadata": {},
      "outputs": [
        {
          "name": "stdout",
          "output_type": "stream",
          "text": [
            "Movies Count:\n",
            "movieId    27278\n",
            "title      27278\n",
            "genres     27278\n",
            "dtype: int64\n",
            "\n",
            "Tags Count:\n",
            "userId       465564\n",
            "movieId      465564\n",
            "tag          465548\n",
            "timestamp    465564\n",
            "dtype: int64\n",
            "\n",
            "Genome scores Count:\n",
            "movieId      11709768\n",
            "tagId        11709768\n",
            "relevance    11709768\n",
            "dtype: int64\n",
            "\n",
            "Genome Tags Count:\n",
            "tagId    1128\n",
            "tag      1128\n",
            "dtype: int64\n"
          ]
        }
      ],
      "source": [
        "\n",
        "print(\"Movies Count:\")\n",
        "print(movies.count())\n",
        "print(\"\\nTags Count:\")\n",
        "print(tags.count())\n",
        "print(\"\\nGenome scores Count:\")\n",
        "print(genome_scores.count())\n",
        "print(\"\\nGenome Tags Count:\")\n",
        "print(genome_tags.count())\n"
      ]
    },
    {
      "cell_type": "code",
      "execution_count": 49,
      "id": "eb974226",
      "metadata": {
        "id": "eb974226"
      },
      "outputs": [],
      "source": [
        "genome = pd.merge(genome_scores, genome_tags, on='tagId')\n",
        "genome_sorted = genome.sort_values(['movieId', 'relevance'], ascending=[True, False])\n",
        "top_genome_tags = genome_sorted.groupby('movieId').head(5)\n",
        "top_genome_tags_grouped = top_genome_tags.groupby('movieId')['tag'].apply(list).reset_index()\n",
        "top_genome_tags_grouped.rename(columns={'tag': 'genome_tags'}, inplace=True)"
      ]
    },
    {
      "cell_type": "code",
      "execution_count": 50,
      "id": "5b110e25",
      "metadata": {
        "id": "5b110e25"
      },
      "outputs": [],
      "source": [
        "user_tags_grouped = tags.groupby('movieId')['tag'].apply(list).reset_index()\n",
        "user_tags_grouped.rename(columns={'tag': 'user_tags'}, inplace=True)"
      ]
    },
    {
      "cell_type": "code",
      "execution_count": 51,
      "id": "6578f37e",
      "metadata": {
        "id": "6578f37e"
      },
      "outputs": [],
      "source": [
        "\n",
        "movies = movies.merge(top_genome_tags_grouped, on='movieId', how='left')\n",
        "movies = movies.merge(user_tags_grouped, on='movieId', how='left')\n"
      ]
    },
    {
      "cell_type": "code",
      "execution_count": 52,
      "id": "ebc55327",
      "metadata": {
        "id": "ebc55327"
      },
      "outputs": [],
      "source": [
        "\n",
        "def process_genres(genres):\n",
        "    try:\n",
        "        return genres.lower().replace('|', ' ').split()\n",
        "    except:\n",
        "        return []\n",
        "\n",
        "def clean_tags(tag_list):\n",
        "    try:\n",
        "        return [str(tag).lower().replace(' ', '') for tag in tag_list if isinstance(tag, str)]\n",
        "    except:\n",
        "        return []\n",
        "\n",
        "movies['genres'] = movies['genres'].apply(process_genres)\n",
        "movies['genome_tags'] = movies['genome_tags'].apply(clean_tags)\n",
        "movies['user_tags'] = movies['user_tags'].apply(clean_tags)"
      ]
    },
    {
      "cell_type": "code",
      "execution_count": 53,
      "id": "e7d41161",
      "metadata": {
        "id": "e7d41161"
      },
      "outputs": [],
      "source": [
        "\n",
        "movies['tags'] = movies['genres'] + movies['genome_tags'] + movies['user_tags']\n",
        "movies['tags'] = movies['tags'].apply(lambda x: ' '.join(x))\n"
      ]
    },
    {
      "cell_type": "code",
      "execution_count": 54,
      "id": "7cfc6456",
      "metadata": {
        "id": "7cfc6456"
      },
      "outputs": [],
      "source": [
        "\n",
        "tfidf = TfidfVectorizer(max_features=5000, stop_words='english')\n",
        "tfidf_matrix = tfidf.fit_transform(movies['tags'])"
      ]
    },
    {
      "cell_type": "code",
      "execution_count": 55,
      "id": "30a9796a",
      "metadata": {
        "id": "30a9796a"
      },
      "outputs": [],
      "source": [
        "\n",
        "similarity = cosine_similarity(tfidf_matrix)"
      ]
    },
    {
      "cell_type": "code",
      "execution_count": 56,
      "id": "6d466b36",
      "metadata": {
        "id": "6d466b36"
      },
      "outputs": [],
      "source": [
        "def recommend(title, top_n=5):\n",
        "    if title not in movies['title'].values:\n",
        "        return \"Movie not found.\"\n",
        "\n",
        "    idx = movies[movies['title'] == title].index[0]\n",
        "    distances = list(enumerate(similarity[idx]))\n",
        "    sorted_movies = sorted(distances, key=lambda x: x[1], reverse=True)[1:top_n+1]\n",
        "\n",
        "    recommended_titles = [movies.iloc[i[0]]['title'] for i in sorted_movies]\n",
        "    return recommended_titles"
      ]
    },
    {
      "cell_type": "code",
      "execution_count": 57,
      "id": "768be4be",
      "metadata": {
        "id": "768be4be"
      },
      "outputs": [
        {
          "name": "stdout",
          "output_type": "stream",
          "text": [
            "['Iron Man 3 (2013)', 'Iron Man 2 (2010)', 'Avengers, The (2012)', 'Avengers Confidential: Black Widow & Punisher (2014)', 'Elektra (2005)']\n"
          ]
        }
      ],
      "source": [
        "print(recommend(\"Iron Man (2008)\"))\n"
      ]
    },
    {
      "cell_type": "code",
      "execution_count": 58,
      "id": "0f579c7d",
      "metadata": {
        "id": "0f579c7d"
      },
      "outputs": [],
      "source": [
        "def is_relevant(source_idx, rec_idx):\n",
        "    source_genres = set(movies.iloc[source_idx]['genres'])\n",
        "    rec_genres = set(movies.iloc[rec_idx]['genres'])\n",
        "    return int(len(source_genres & rec_genres) > 0)\n",
        "\n",
        "\n",
        "def evaluate_model(top_n=5, sample_size=100):\n",
        "    y_true_all = []\n",
        "    y_pred_scores_all = []\n",
        "    y_pred_binary_all = []\n",
        "    for idx in movies.sample(sample_size, random_state=42).index:\n",
        "        \n",
        "        for jdx, score in enumerate(similarity[idx]):\n",
        "            if idx==jdx: continue\n",
        "            y_true_all.append(is_relevant(idx, jdx))\n",
        "            y_pred_scores_all.append(score)\n",
        "       \n",
        "        top_scores = sorted(similarity[idx], reverse=True)[1:top_n+1]\n",
        "        thresh = min(top_scores)\n",
        "        for jdx, score in enumerate(similarity[idx]):\n",
        "            if idx==jdx: continue\n",
        "            y_pred_binary_all.append(int(score>=thresh))\n",
        "            \n",
        "    mse = mean_squared_error(y_true_all, y_pred_scores_all)\n",
        "    mae = mean_absolute_error(y_true_all, y_pred_scores_all)\n",
        "    precision = precision_score(y_true_all, y_pred_binary_all)\n",
        "    recall = recall_score(y_true_all, y_pred_binary_all)\n",
        "    f1 = f1_score(y_true_all, y_pred_binary_all)\n",
        "    auc = roc_auc_score(y_true_all, y_pred_scores_all)\n",
        "    return {'MSE': mse, 'MAE': mae, 'Precision': precision,\n",
        "            'Recall': recall, 'F1': f1, 'AUC': auc, 'y_true': y_true_all,\n",
        "            'y_scores': y_pred_scores_all}\n",
        "\n",
        "metrics = evaluate_model(top_n=5, sample_size=200)"
      ]
    },
    {
      "cell_type": "code",
      "execution_count": 59,
      "id": "2c426c8a",
      "metadata": {},
      "outputs": [
        {
          "name": "stdout",
          "output_type": "stream",
          "text": [
            "Evaluation Metrics:\n",
            "MSE: 0.3208\n",
            "MAE: 0.3480\n",
            "Precision: 0.9958\n",
            "Recall: 0.0161\n",
            "F1: 0.0318\n",
            "AUC: 0.9794\n"
          ]
        }
      ],
      "source": [
        "print(\"Evaluation Metrics:\")\n",
        "for k,v in metrics.items():\n",
        "    if k in ['y_true','y_scores']: continue\n",
        "    print(f\"{k}: {v:.4f}\")\n"
      ]
    },
    {
      "cell_type": "code",
      "execution_count": 60,
      "id": "a24e4f06",
      "metadata": {},
      "outputs": [
        {
          "data": {
            "image/png": "[encoded data removed]",
            "text/plain": [
              "<Figure size 640x480 with 1 Axes>"
            ]
          },
          "metadata": {},
          "output_type": "display_data"
        }
      ],
      "source": [
        "fpr, tpr, _ = roc_curve(metrics['y_true'], metrics['y_scores'])\n",
        "plt.figure()\n",
        "plt.plot(fpr, tpr, label=f\"ROC curve (AUC = {metrics['AUC']:.4f})\")\n",
        "plt.plot([0,1],[0,1],'--')\n",
        "plt.xlabel('False Positive Rate')\n",
        "plt.ylabel('True Positive Rate')\n",
        "plt.title('ROC Curve')\n",
        "plt.legend(loc='lower right')\n",
        "plt.show()"
      ]
    },
    {
      "cell_type": "code",
      "execution_count": 62,
      "id": "6125edb3",
      "metadata": {},
      "outputs": [
        {
          "data": {
            "image/png": "[encoded data removed]",
            "text/plain": [
              "<Figure size 640x480 with 1 Axes>"
            ]
          },
          "metadata": {},
          "output_type": "display_data"
        }
      ],
      "source": [
        "plt.figure()\n",
        "names = ['Precision','Recall','F1','AUC']\n",
        "values = [metrics[n] for n in names]\n",
        "plt.bar(names, values)\n",
        "plt.ylim(0,1)\n",
        "plt.title('Classification Metrics Comparison')\n",
        "plt.show()"
      ]
    }
  ],
  "metadata": {
    "accelerator": "GPU",
    "colab": {
      "gpuType": "T4",
      "provenance": []
    },
    "kernelspec": {
      "display_name": "Python 3",
      "name": "python3"
    },
    "language_info": {
      "codemirror_mode": {
        "name": "ipython",
        "version": 3
      },
      "file_extension": ".py",
      "mimetype": "text/x-python",
      "name": "python",
      "nbconvert_exporter": "python",
      "pygments_lexer": "ipython3",
      "version": "3.12.5"
    }
  },
  "nbformat": 4,
  "nbformat_minor": 5
}
